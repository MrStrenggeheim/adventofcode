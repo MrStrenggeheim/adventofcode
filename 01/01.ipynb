{
 "cells": [
  {
   "cell_type": "markdown",
   "metadata": {},
   "source": [
    "# Advent of Code 2023 - **Day 1: Trebuchet?!**"
   ]
  },
  {
   "cell_type": "code",
   "execution_count": 43,
   "metadata": {},
   "outputs": [],
   "source": [
    "import re\n",
    "\n",
    "substrings = {\n",
    "    \"one\" : 1,\n",
    "    \"two\" : 2,\n",
    "    \"three\" : 3,\n",
    "    \"four\" : 4,\n",
    "    \"five\" : 5,\n",
    "    \"six\" : 6,\n",
    "    \"seven\" : 7,\n",
    "    \"eight\" : 8,\n",
    "    \"nine\" : 9,\n",
    "}"
   ]
  },
  {
   "cell_type": "code",
   "execution_count": 44,
   "metadata": {},
   "outputs": [
    {
     "data": {
      "text/plain": [
       "53221"
      ]
     },
     "execution_count": 44,
     "metadata": {},
     "output_type": "execute_result"
    }
   ],
   "source": [
    "input = \"input.txt\"\n",
    "with open(input) as f:\n",
    "    data = f.read().splitlines()\n",
    "\n",
    "sum = 0\n",
    "for line in data:\n",
    "    numbers_in_line = []\n",
    "    \n",
    "    for i, c in enumerate(line):\n",
    "        if c.isdigit():\n",
    "            numbers_in_line.append((int(c), i))\n",
    "    \n",
    "    for n, word in enumerate(substrings.keys()):\n",
    "        pos = re.finditer(word, line)\n",
    "        for p in pos:\n",
    "            numbers_in_line.append((substrings[word], p.start()))\n",
    "            \n",
    "    numbers_in_line.sort(key=lambda x: x[1])\n",
    "    left_digit = numbers_in_line[0][0]\n",
    "    right_digit = numbers_in_line[-1][0]\n",
    "    number = left_digit * 10 + right_digit\n",
    "    sum += number\n",
    "sum"
   ]
  }
 ],
 "metadata": {
  "kernelspec": {
   "display_name": "base",
   "language": "python",
   "name": "python3"
  },
  "language_info": {
   "codemirror_mode": {
    "name": "ipython",
    "version": 3
   },
   "file_extension": ".py",
   "mimetype": "text/x-python",
   "name": "python",
   "nbconvert_exporter": "python",
   "pygments_lexer": "ipython3",
   "version": "3.11.5"
  }
 },
 "nbformat": 4,
 "nbformat_minor": 2
}
