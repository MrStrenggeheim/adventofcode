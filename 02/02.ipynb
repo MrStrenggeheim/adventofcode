{
 "cells": [
  {
   "cell_type": "markdown",
   "metadata": {},
   "source": [
    "# Advent of Code 2023 - Day 2: **Cube Conundrum**"
   ]
  },
  {
   "cell_type": "code",
   "execution_count": 133,
   "metadata": {},
   "outputs": [],
   "source": [
    "import numpy as np"
   ]
  },
  {
   "cell_type": "code",
   "execution_count": 140,
   "metadata": {},
   "outputs": [],
   "source": [
    "input_file = 'input.txt'\n",
    "\n",
    "colors = ['red', 'green', 'blue']\n",
    "max_cubes = [12, 13, 14]"
   ]
  },
  {
   "cell_type": "code",
   "execution_count": 141,
   "metadata": {},
   "outputs": [
    {
     "name": "stdout",
     "output_type": "stream",
     "text": [
      "[{'green': 12, 'blue': 7, 'red': 3}, {'green': 1, 'blue': 19, 'red': 4}, {'green': 3, 'blue': 1, 'red': 9}, {'green': 16, 'red': 3, 'blue': 1}, {'blue': 7, 'green': 3, 'red': 8}, {'red': 5, 'blue': 20, 'green': 3}, {'red': 19, 'blue': 3, 'green': 9}, {'red': 14, 'green': 2, 'blue': 3}, {'red': 13, 'green': 18, 'blue': 1}, {'green': 16, 'red': 5, 'blue': 2}, {'red': 13, 'blue': 18, 'green': 5}, {'red': 14, 'green': 16, 'blue': 17}, {'green': 20, 'red': 3, 'blue': 10}, {'green': 2, 'blue': 4, 'red': 8}, {'blue': 10, 'green': 20, 'red': 20}, {'blue': 16, 'red': 6, 'green': 14}, {'green': 8, 'red': 15, 'blue': 7}, {'blue': 20, 'red': 2, 'green': 4}, {'red': 16, 'blue': 6, 'green': 3}, {'red': 12, 'blue': 11, 'green': 1}, {'blue': 9, 'green': 2, 'red': 2}, {'red': 3, 'green': 13, 'blue': 6}, {'red': 14, 'blue': 4, 'green': 8}, {'blue': 2, 'green': 9, 'red': 7}, {'red': 18, 'green': 2, 'blue': 8}, {'red': 20, 'green': 16, 'blue': 6}, {'red': 9, 'blue': 15, 'green': 17}, {'green': 12, 'red': 17, 'blue': 7}, {'red': 6, 'blue': 4, 'green': 3}, {'red': 11, 'blue': 15, 'green': 5}, {'blue': 6, 'red': 2, 'green': 8}, {'red': 13, 'green': 7, 'blue': 6}, {'green': 4, 'blue': 2, 'red': 12}, {'blue': 3, 'red': 10, 'green': 5}, {'red': 5, 'blue': 10, 'green': 2}, {'green': 9, 'blue': 16, 'red': 3}, {'green': 12, 'red': 1, 'blue': 2}, {'blue': 19, 'red': 15, 'green': 5}, {'red': 10, 'blue': 3, 'green': 1}, {'blue': 11, 'red': 7, 'green': 16}, {'red': 19, 'blue': 17, 'green': 1}, {'red': 10, 'green': 12, 'blue': 12}, {'blue': 15, 'red': 8, 'green': 9}, {'blue': 16, 'red': 7, 'green': 8}, {'green': 3, 'red': 6, 'blue': 11}, {'blue': 3, 'green': 10, 'red': 2}, {'green': 3, 'red': 12, 'blue': 4}, {'blue': 7, 'green': 9, 'red': 16}, {'blue': 4, 'green': 7, 'red': 19}, {'red': 4, 'green': 3, 'blue': 19}, {'blue': 9, 'green': 17, 'red': 20}, {'green': 13, 'blue': 17, 'red': 18}, {'green': 2, 'red': 1, 'blue': 3}, {'red': 3, 'green': 5, 'blue': 3}, {'green': 16, 'blue': 12, 'red': 7}, {'green': 16, 'red': 11, 'blue': 1}, {'red': 9, 'blue': 19, 'green': 15}, {'green': 12, 'blue': 2, 'red': 4}, {'blue': 12, 'red': 7, 'green': 4}, {'green': 19, 'red': 10, 'blue': 10}, {'green': 11, 'blue': 8, 'red': 20}, {'green': 11, 'red': 12, 'blue': 4}, {'blue': 6, 'green': 4, 'red': 3}, {'blue': 8, 'green': 10, 'red': 12}, {'blue': 7, 'red': 12, 'green': 15}, {'green': 14, 'blue': 7, 'red': 9}, {'blue': 4, 'red': 8, 'green': 10}, {'blue': 8, 'green': 15, 'red': 12}, {'red': 15, 'blue': 3, 'green': 20}, {'red': 6, 'blue': 5, 'green': 16}, {'red': 9, 'green': 9, 'blue': 4}, {'blue': 18, 'red': 1, 'green': 4}, {'red': 7, 'green': 18, 'blue': 1}, {'green': 9, 'red': 1, 'blue': 10}, {'red': 4, 'green': 3, 'blue': 7}, {'green': 17, 'blue': 15, 'red': 6}, {'red': 1, 'blue': 7, 'green': 8}, {'green': 14, 'blue': 3, 'red': 13}, {'green': 20, 'blue': 2, 'red': 11}, {'red': 14, 'green': 3, 'blue': 2}, {'red': 1, 'blue': 11, 'green': 5}, {'red': 14, 'blue': 17, 'green': 10}, {'blue': 7, 'red': 14, 'green': 11}, {'green': 10, 'blue': 8, 'red': 11}, {'blue': 12, 'red': 17, 'green': 3}, {'green': 18, 'blue': 1, 'red': 8}, {'red': 9, 'blue': 17, 'green': 9}, {'red': 12, 'blue': 6, 'green': 17}, {'red': 14, 'blue': 8, 'green': 11}, {'red': 4, 'blue': 8, 'green': 14}, {'blue': 2, 'red': 8, 'green': 1}, {'green': 16, 'red': 17, 'blue': 2}, {'blue': 9, 'red': 14, 'green': 10}, {'blue': 2, 'green': 14, 'red': 8}, {'red': 2, 'blue': 8, 'green': 4}, {'blue': 16, 'red': 9, 'green': 15}, {'green': 12, 'blue': 11, 'red': 4}, {'green': 8, 'blue': 15, 'red': 1}, {'green': 5, 'blue': 8, 'red': 19}, {'red': 5, 'green': 8, 'blue': 4}]\n",
      "[1, 0, 1, 0, 1, 0, 0, 0, 0, 0, 0, 0, 0, 1, 0, 0, 0, 0, 0, 1, 1, 1, 0, 1, 0, 0, 0, 0, 1, 0, 1, 0, 1, 1, 1, 0, 1, 0, 1, 0, 0, 1, 0, 0, 1, 1, 1, 0, 0, 0, 0, 0, 1, 1, 0, 0, 0, 1, 1, 0, 0, 1, 1, 1, 0, 0, 1, 0, 0, 0, 1, 0, 0, 1, 1, 0, 1, 0, 0, 0, 1, 0, 0, 1, 0, 0, 0, 0, 0, 0, 1, 0, 0, 0, 1, 0, 1, 0, 0, 1]\n",
      "1 1853\n"
     ]
    },
    {
     "data": {
      "text/plain": [
       "72706"
      ]
     },
     "execution_count": 141,
     "metadata": {},
     "output_type": "execute_result"
    }
   ],
   "source": [
    "with open(input_file, 'r') as f:\n",
    "    lines = f.readlines()\n",
    "\n",
    "min_cubes = []\n",
    "\n",
    "for id, line in enumerate(lines):\n",
    "    line = line.strip().split(': ')[1].split('; ')\n",
    "    line = [[y.split(' ') for y in x.split(', ')] for x in line]\n",
    "    dic = {}\n",
    "    for move in line:\n",
    "        for event in move:\n",
    "            n = int(event[0])\n",
    "            color = event[1]\n",
    "            if color not in dic:\n",
    "                dic[color] = n\n",
    "            else:\n",
    "                dic[color] = max(dic[color], n)\n",
    "    min_cubes.append(dic)\n",
    "\n",
    "print(min_cubes)\n",
    "\n",
    "\n",
    "# 1\n",
    "possible_games_list = [1]*len(min_cubes)\n",
    "\n",
    "for id, games in enumerate(min_cubes):\n",
    "    for c, color in enumerate(colors):\n",
    "        if min_cubes[id][color] > max_cubes[c]:\n",
    "            possible_games_list[id] = 0\n",
    "\n",
    "print(possible_games_list)\n",
    "\n",
    "possible_idx = [i+1 for i, x in enumerate(possible_games_list) if x == 1]\n",
    "print(1, sum(possible_idx))\n",
    "\n",
    "\n",
    "#2 \n",
    "sum_min_cubes = sum([(np.multiply.reduce(np.array(list(x.values())))) for x in min_cubes])\n",
    "sum_min_cubes"
   ]
  }
 ],
 "metadata": {
  "kernelspec": {
   "display_name": "base",
   "language": "python",
   "name": "python3"
  },
  "language_info": {
   "codemirror_mode": {
    "name": "ipython",
    "version": 3
   },
   "file_extension": ".py",
   "mimetype": "text/x-python",
   "name": "python",
   "nbconvert_exporter": "python",
   "pygments_lexer": "ipython3",
   "version": "3.11.5"
  }
 },
 "nbformat": 4,
 "nbformat_minor": 2
}
