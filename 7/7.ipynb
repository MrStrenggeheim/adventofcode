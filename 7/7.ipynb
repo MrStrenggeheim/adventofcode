{
 "cells": [
  {
   "cell_type": "markdown",
   "metadata": {},
   "source": [
    "# Advent of Code 2023 - Day 7: **Camel Cards** "
   ]
  },
  {
   "cell_type": "code",
   "execution_count": 1,
   "metadata": {},
   "outputs": [],
   "source": [
    "ordering = \"23456789TJQKA\"\n",
    "ordering = \"J23456789TQKA\"\n",
    "\n",
    "HIGH_CARD = 0\n",
    "ONE_PAIR = 1\n",
    "TWO_PAIR = 2\n",
    "THREE_OF_A_KIND = 3\n",
    "FULL_HOUSE = 4\n",
    "FOUR_OF_A_KIND = 5\n",
    "FIVE_OF_A_KIND = 6"
   ]
  },
  {
   "cell_type": "code",
   "execution_count": 2,
   "metadata": {},
   "outputs": [],
   "source": [
    "class Card:\n",
    "    def __init__(self, value):\n",
    "        self.value = ordering.index(value)\n",
    "        \n",
    "    def __lt__ (self, other):\n",
    "        return self.value < other.value\n",
    "    \n",
    "    def __gt__ (self, other):\n",
    "        return self.value > other.value\n",
    "    \n",
    "    def __eq__ (self, other):\n",
    "        return self.value == other.value\n",
    "    \n",
    "    def __str__ (self):\n",
    "        return ordering[self.value]\n",
    "    \n",
    "    def __repr__ (self):\n",
    "        return ordering[self.value]\n",
    "    \n",
    "    \n",
    "class Hand:\n",
    "    def __init__(self, cards : list[Card]):\n",
    "        self.cards = cards\n",
    "        \n",
    "    def __lt__ (self, other):\n",
    "        if self.rank() == other.rank():\n",
    "            for i, card in enumerate(self.cards):\n",
    "                if card != other.cards[i]:\n",
    "                    return card < other.cards[i]\n",
    "            return False\n",
    "        else:\n",
    "            return self.rank() < other.rank()\n",
    "        \n",
    "    def __gt__ (self, other):\n",
    "        if self.rank() == other.rank():\n",
    "            for i, card in enumerate(self.cards):\n",
    "                if card != other.cards[i]:\n",
    "                    return card > other.cards[i]\n",
    "            return False\n",
    "        else:\n",
    "            return self.rank() > other.rank()\n",
    "        \n",
    "    def __eq__ (self, other):\n",
    "        if self.rank() == other.rank():\n",
    "            for i, card in enumerate(self.cards):\n",
    "                if card != other.cards[i]:\n",
    "                    return False\n",
    "            return True\n",
    "        else:\n",
    "            return False\n",
    "        \n",
    "    def __str__ (self):\n",
    "        return str(self.cards)\n",
    "    \n",
    "    def __repr__ (self):\n",
    "        return str(self.cards)\n",
    "    \n",
    "    def rank(self):\n",
    "        counter = dict()\n",
    "        for card in self.cards:\n",
    "            if card.value in counter:\n",
    "                counter[card.value] += 1\n",
    "            else:\n",
    "                counter[card.value] = 1\n",
    "        num_joker = counter.pop(ordering.index(\"J\"), 0)\n",
    "        \n",
    "        if len(counter) == 5:\n",
    "            return HIGH_CARD\n",
    "        elif len(counter) == 4:\n",
    "            return ONE_PAIR\n",
    "        elif len(counter) == 3:\n",
    "            if num_joker == 0:\n",
    "                if 3 in counter.values():\n",
    "                    return THREE_OF_A_KIND\n",
    "                else:\n",
    "                    return TWO_PAIR\n",
    "            elif num_joker == 1:\n",
    "                if 2 in counter.values():\n",
    "                    return THREE_OF_A_KIND\n",
    "                else:\n",
    "                    return ONE_PAIR\n",
    "            elif num_joker == 2:\n",
    "                return THREE_OF_A_KIND\n",
    "        elif len(counter) == 2:\n",
    "            if num_joker == 0:\n",
    "                if 4 in counter.values():\n",
    "                    return FOUR_OF_A_KIND\n",
    "                else:\n",
    "                    return FULL_HOUSE\n",
    "            elif num_joker == 1:\n",
    "                if 3 in counter.values():\n",
    "                    return FOUR_OF_A_KIND\n",
    "                else:\n",
    "                    return FULL_HOUSE\n",
    "            elif num_joker == 2 or num_joker == 3:\n",
    "                return FOUR_OF_A_KIND\n",
    "        else:\n",
    "            return FIVE_OF_A_KIND"
   ]
  },
  {
   "cell_type": "code",
   "execution_count": 3,
   "metadata": {},
   "outputs": [
    {
     "data": {
      "text/plain": [
       "248909434"
      ]
     },
     "execution_count": 3,
     "metadata": {},
     "output_type": "execute_result"
    }
   ],
   "source": [
    "input = \"input.txt\"    \n",
    "with (open(input, \"r\")) as f:\n",
    "    data = f.read().splitlines()\n",
    "\n",
    "data = [\n",
    "    (Hand([Card(card) for card in hand]), int(value)) \n",
    "    for hand, value in [line.split(\" \") for line in data]\n",
    "]\n",
    "\n",
    "data = sorted(data, key=lambda x: x[0], reverse=False)\n",
    "values = [i*value for i, (_, value) in enumerate(data, 1)]\n",
    "value_sum = sum(values)\n",
    "value_sum"
   ]
  }
 ],
 "metadata": {
  "kernelspec": {
   "display_name": "base",
   "language": "python",
   "name": "python3"
  },
  "language_info": {
   "codemirror_mode": {
    "name": "ipython",
    "version": 3
   },
   "file_extension": ".py",
   "mimetype": "text/x-python",
   "name": "python",
   "nbconvert_exporter": "python",
   "pygments_lexer": "ipython3",
   "version": "3.11.5"
  }
 },
 "nbformat": 4,
 "nbformat_minor": 2
}
