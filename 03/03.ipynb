{
 "cells": [
  {
   "cell_type": "markdown",
   "metadata": {},
   "source": [
    "# Advent of Code 2023 - Day 3: **Gear Ratios**"
   ]
  },
  {
   "cell_type": "code",
   "execution_count": 31,
   "metadata": {},
   "outputs": [],
   "source": [
    "import re\n",
    "import numpy as np\n",
    "from dataclasses import dataclass"
   ]
  },
  {
   "cell_type": "code",
   "execution_count": 32,
   "metadata": {},
   "outputs": [],
   "source": [
    "input = 'input.txt'"
   ]
  },
  {
   "cell_type": "code",
   "execution_count": 33,
   "metadata": {},
   "outputs": [],
   "source": [
    "@dataclass\n",
    "class Number:\n",
    "    x: int\n",
    "    y: int\n",
    "    l: int\n",
    "    n: int"
   ]
  },
  {
   "cell_type": "code",
   "execution_count": 34,
   "metadata": {},
   "outputs": [],
   "source": [
    "with open (input, 'r') as f:\n",
    "    data = f.read().splitlines()\n",
    "\n",
    "symbols = np.zeros((len(data[0]), len(data)))\n",
    "\n",
    "for (y, line) in enumerate(data):\n",
    "    for (x, symbol) in enumerate(line):\n",
    "        if symbol != '.' and (not symbol.isdigit()):\n",
    "            symbols[y][x] = 1\n",
    "            if symbol == '*':\n",
    "                symbols[y][x] = 2\n",
    "            data[y] = data[y][:x] + '.' + data[y][x+1:]"
   ]
  },
  {
   "cell_type": "markdown",
   "metadata": {},
   "source": [
    "### Part 1"
   ]
  },
  {
   "cell_type": "code",
   "execution_count": 35,
   "metadata": {},
   "outputs": [],
   "source": [
    "def get_numbers_in_Line(line):\n",
    "    numbers = re.split(r'(\\.+)', line)\n",
    "    numbers = [n for n in numbers if n != '']\n",
    "    length = 0\n",
    "    for (i, n) in enumerate(numbers):\n",
    "        numbers[i] = (length, n)\n",
    "        length += len(n)\n",
    "\n",
    "    numbers = [n for n in numbers if n[1][0] != '.']\n",
    "\n",
    "    return numbers"
   ]
  },
  {
   "cell_type": "code",
   "execution_count": 36,
   "metadata": {},
   "outputs": [],
   "source": [
    "numbers = []\n",
    "\n",
    "for (y, line) in enumerate(data):\n",
    "    numbers_in_line = get_numbers_in_Line(line)\n",
    "    for n in numbers_in_line:\n",
    "        numbers.append(Number(n[0], y, len(n[1]), int(n[1])))"
   ]
  },
  {
   "cell_type": "code",
   "execution_count": 37,
   "metadata": {},
   "outputs": [
    {
     "name": "stdout",
     "output_type": "stream",
     "text": [
      "528799\n"
     ]
    }
   ],
   "source": [
    "parts = []\n",
    "\n",
    "for n in numbers:\n",
    "    for _y in range(n.y-1, n.y+2):\n",
    "        for _x in range(n.x-1, n.x+n.l+1):\n",
    "            if _x < 0 or _y < 0 or _x >= len(data[0]) or _y >= len(data):\n",
    "                continue\n",
    "            if symbols[_y][_x] >= 1:\n",
    "                parts.append(n.n)\n",
    "\n",
    "print(sum(parts))"
   ]
  },
  {
   "cell_type": "markdown",
   "metadata": {},
   "source": [
    "### Part 2"
   ]
  },
  {
   "cell_type": "code",
   "execution_count": 38,
   "metadata": {},
   "outputs": [],
   "source": [
    "def get_number_at(x, y):\n",
    "    if x < 0 or y < 0 or x >= len(data[0]) or y >= len(data):\n",
    "        return None\n",
    "\n",
    "    for n in numbers:\n",
    "        if n.x <= x and n.x+n.l > x and n.y == y:\n",
    "            return n\n",
    "    return None\n",
    "\n",
    "def get_numbers_around(x, y):\n",
    "    numbers_around = []\n",
    "    for _y in range(y-1, y+2):\n",
    "        for _x in range(x-1, x+2):\n",
    "                n = get_number_at(_x, _y)\n",
    "                if n is not None and n not in numbers_around:\n",
    "                    numbers_around.append(n)\n",
    "    return numbers_around"
   ]
  },
  {
   "cell_type": "code",
   "execution_count": 39,
   "metadata": {},
   "outputs": [
    {
     "data": {
      "text/plain": [
       "84907174"
      ]
     },
     "execution_count": 39,
     "metadata": {},
     "output_type": "execute_result"
    }
   ],
   "source": [
    "gears = []\n",
    "for y in range(len(data)):\n",
    "    for x in range(len(data[0])):\n",
    "        if symbols[y][x] == 2:\n",
    "            ns = get_numbers_around(x, y)\n",
    "            if len(ns) == 2:\n",
    "                gears.append(ns[0].n * ns[1].n)\n",
    "\n",
    "sum(gears)"
   ]
  }
 ],
 "metadata": {
  "kernelspec": {
   "display_name": "base",
   "language": "python",
   "name": "python3"
  },
  "language_info": {
   "codemirror_mode": {
    "name": "ipython",
    "version": 3
   },
   "file_extension": ".py",
   "mimetype": "text/x-python",
   "name": "python",
   "nbconvert_exporter": "python",
   "pygments_lexer": "ipython3",
   "version": "3.11.5"
  }
 },
 "nbformat": 4,
 "nbformat_minor": 2
}
