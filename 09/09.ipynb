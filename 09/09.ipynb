{
 "cells": [
  {
   "cell_type": "markdown",
   "metadata": {},
   "source": [
    "# Advent of Code 2023 - Day 9: Mirage Maintenance"
   ]
  },
  {
   "cell_type": "code",
   "execution_count": 28,
   "metadata": {},
   "outputs": [],
   "source": [
    "input = 'input.txt'\n",
    "\n",
    "with (open(input, 'r')) as f:   \n",
    "    lines = [[int(n) for n in line.split()] for line in f.read().splitlines()]"
   ]
  },
  {
   "cell_type": "code",
   "execution_count": 48,
   "metadata": {},
   "outputs": [],
   "source": [
    "def get_prediction(line, direction=1):\n",
    "    if direction == -1:\n",
    "        line.reverse()\n",
    "    \n",
    "    rules = [[]]\n",
    "    rules[0] = line.copy()\n",
    "    num_layers = 0\n",
    "\n",
    "    while num_layers < len(line)-1:\n",
    "        rules.append([])\n",
    "        for act_layer, i in zip(range(num_layers+1), range(num_layers, -1, -1)):\n",
    "            diff = rules[act_layer][-i-1] - rules[act_layer][-i-2]\n",
    "            rules[act_layer+1].insert(0, diff)\n",
    "        num_layers += 1\n",
    "\n",
    "    rules[-1].append(0)\n",
    "    for i in range(len(rules)-2, -1, -1):\n",
    "        new_entry = rules[i+1][-1] + rules[i][-1]\n",
    "        rules[i].append(new_entry)\n",
    "        \n",
    "    return rules[0][-1]"
   ]
  },
  {
   "cell_type": "code",
   "execution_count": 62,
   "metadata": {},
   "outputs": [
    {
     "data": {
      "text/plain": [
       "995"
      ]
     },
     "execution_count": 62,
     "metadata": {},
     "output_type": "execute_result"
    }
   ],
   "source": [
    "predictions = []\n",
    "for line in lines:\n",
    "    pred = get_prediction(line, -1)\n",
    "    predictions.append(pred)\n",
    "sum(predictions)"
   ]
  }
 ],
 "metadata": {
  "kernelspec": {
   "display_name": "base",
   "language": "python",
   "name": "python3"
  },
  "language_info": {
   "codemirror_mode": {
    "name": "ipython",
    "version": 3
   },
   "file_extension": ".py",
   "mimetype": "text/x-python",
   "name": "python",
   "nbconvert_exporter": "python",
   "pygments_lexer": "ipython3",
   "version": "3.11.5"
  }
 },
 "nbformat": 4,
 "nbformat_minor": 2
}
