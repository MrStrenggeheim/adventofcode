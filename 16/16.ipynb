{
 "cells": [
  {
   "cell_type": "markdown",
   "metadata": {},
   "source": [
    "# Advent of Code 2023 - Day 10: **Pipe Maze**"
   ]
  },
  {
   "cell_type": "markdown",
   "metadata": {},
   "source": [
    "### Preparation"
   ]
  },
  {
   "cell_type": "code",
   "execution_count": 147,
   "metadata": {},
   "outputs": [],
   "source": [
    "import numpy as np\n",
    "\n",
    "with open('input.txt') as f:\n",
    "    data = [list(line) for line in f.read().splitlines()]\n",
    "data = np.array(data).T\n",
    "width = len(data[0])\n",
    "height = len(data)"
   ]
  },
  {
   "cell_type": "code",
   "execution_count": 148,
   "metadata": {},
   "outputs": [],
   "source": [
    "class Pos:\n",
    "    def __init__(self, x, y):\n",
    "        self.x = x\n",
    "        self.y = y\n",
    "        \n",
    "    def __repr__(self) -> str:\n",
    "        return f'P({self.x}, {self.y})'\n",
    "    \n",
    "    def __str__(self) -> str:\n",
    "        return f'P({self.x}, {self.y})'\n",
    "    \n",
    "    def __add__(self, other):\n",
    "        return Pos(self.x + other.x, self.y + other.y)\n",
    "    \n",
    "    def __eq__(self, other):\n",
    "        return self.x == other.x and self.y == other.y\n",
    "    \n",
    "    def __hash__(self) -> int:\n",
    "        return hash((self.x, self.y))\n",
    "    \n",
    "    def rotate_right(self):\n",
    "        return Pos(-self.y, self.x)\n",
    "    \n",
    "    def rotate_left(self):\n",
    "        return Pos(self.y, -self.x)"
   ]
  },
  {
   "cell_type": "markdown",
   "metadata": {},
   "source": [
    "### Part 1"
   ]
  },
  {
   "cell_type": "code",
   "execution_count": 149,
   "metadata": {},
   "outputs": [],
   "source": [
    "def step(pos, dir) -> list[(Pos, int)]:\n",
    "    c = data[pos.x, pos.y]\n",
    "    if c == '.':\n",
    "        return [(pos + dir, dir)]\n",
    "    if c == '|':\n",
    "        if dir == Pos(0, 1) or dir == Pos(0, -1):\n",
    "            return [(pos + dir, dir)]\n",
    "        elif dir == Pos(1, 0) or dir == Pos(-1, 0):\n",
    "            return [(pos + Pos(0, 1), Pos(0, 1)), (pos + Pos(0, -1), Pos(0, -1))]\n",
    "    elif c == '-':\n",
    "        if dir == Pos(1, 0) or dir == Pos(-1, 0):\n",
    "            return [(pos + dir, dir)]\n",
    "        elif dir == Pos(0, 1) or dir == Pos(0, -1):\n",
    "            return [(pos + Pos(1, 0), Pos(1, 0)), (pos + Pos(-1, 0), Pos(-1, 0))]\n",
    "    elif c == '/':\n",
    "        if dir == Pos(0, 1) or dir == Pos(0, -1):\n",
    "            dir = dir.rotate_right()\n",
    "            return [(pos + dir, dir)]\n",
    "        elif dir == Pos(1, 0) or dir == Pos(-1, 0):\n",
    "            dir = dir.rotate_left()\n",
    "            return [(pos + dir, dir)]\n",
    "    elif c == '\\\\':\n",
    "        if dir == Pos(0, 1) or dir == Pos(0, -1):\n",
    "            dir = dir.rotate_left()\n",
    "            return [(pos + dir, dir)]\n",
    "        elif dir == Pos(1, 0) or dir == Pos(-1, 0):\n",
    "            dir = dir.rotate_right()\n",
    "            return [(pos + dir, dir)]"
   ]
  },
  {
   "cell_type": "code",
   "execution_count": 150,
   "metadata": {},
   "outputs": [],
   "source": [
    "def get_energy(start_pos, start_dir):\n",
    "    energize_matrix = np.zeros((height, width), dtype=int)\n",
    "    queue = [(start_pos, start_dir)]\n",
    "    seen = set()\n",
    "    while queue:\n",
    "        pos, dir = queue.pop(0)\n",
    "        if pos.x < 0 or pos.x >= height or pos.y < 0 or pos.y >= width:\n",
    "            continue\n",
    "        energize_matrix[pos.x, pos.y] = 1\n",
    "        seen |= {(pos, dir)}\n",
    "        steps = step(pos, dir)\n",
    "        steps = list(set(steps) - seen)\n",
    "        queue.extend(steps)\n",
    "    return sum(sum(energize_matrix)), energize_matrix.T"
   ]
  },
  {
   "cell_type": "code",
   "execution_count": 151,
   "metadata": {},
   "outputs": [
    {
     "data": {
      "text/plain": [
       "7884"
      ]
     },
     "execution_count": 151,
     "metadata": {},
     "output_type": "execute_result"
    }
   ],
   "source": [
    "start_pos = Pos(0, 0)\n",
    "start_dir = Pos(1, 0)\n",
    "get_energy(start_pos, start_dir)[0]"
   ]
  },
  {
   "cell_type": "markdown",
   "metadata": {},
   "source": [
    "### Part 2"
   ]
  },
  {
   "cell_type": "code",
   "execution_count": 152,
   "metadata": {},
   "outputs": [
    {
     "data": {
      "text/plain": [
       "8185"
      ]
     },
     "execution_count": 152,
     "metadata": {},
     "output_type": "execute_result"
    }
   ],
   "source": [
    "start_positions = []\n",
    "rows = list(range(height))\n",
    "start_positions.extend([Pos(0, i) for i in rows])\n",
    "start_positions.extend([Pos(height-1, i) for i in rows])\n",
    "cols = list(range(width))\n",
    "start_positions.extend([Pos(i, 0) for i in cols])\n",
    "start_positions.extend([Pos(i, width-1) for i in cols])\n",
    "start_directions = [Pos(1, 0)] * height + [Pos(-1, 0)] * height + [Pos(0, 1)] * width + [Pos(0, -1)] * width\n",
    "energies = [(get_energy(pos, dir)) for pos, dir in zip(start_positions, start_directions)]\n",
    "max(energies, key=lambda x: x[0])[0]"
   ]
  }
 ],
 "metadata": {
  "kernelspec": {
   "display_name": "base",
   "language": "python",
   "name": "python3"
  },
  "language_info": {
   "codemirror_mode": {
    "name": "ipython",
    "version": 3
   },
   "file_extension": ".py",
   "mimetype": "text/x-python",
   "name": "python",
   "nbconvert_exporter": "python",
   "pygments_lexer": "ipython3",
   "version": "3.11.5"
  }
 },
 "nbformat": 4,
 "nbformat_minor": 2
}
