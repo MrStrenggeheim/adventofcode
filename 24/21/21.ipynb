{
 "cells": [
  {
   "cell_type": "code",
   "execution_count": 178,
   "metadata": {},
   "outputs": [],
   "source": [
    "import sys\n",
    "sys.path.append(\"..\")\n",
    "from utils.utils import Matrix, Vec\n",
    "import numpy as np\n",
    "from itertools import islice"
   ]
  },
  {
   "cell_type": "code",
   "execution_count": 179,
   "metadata": {},
   "outputs": [],
   "source": [
    "with open(\"input.txt\") as file:\n",
    "    codes = file.read().splitlines()\n",
    "    \n",
    "numpad = Matrix.from_str(\"789\\n456\\n123\\nX0A\")\n",
    "dirpad = Matrix.from_str(\"X^A\\n<v>\")"
   ]
  },
  {
   "cell_type": "code",
   "execution_count": 180,
   "metadata": {},
   "outputs": [],
   "source": [
    "from functools import cache\n",
    "from tqdm import tqdm\n",
    "import math"
   ]
  },
  {
   "cell_type": "code",
   "execution_count": 181,
   "metadata": {},
   "outputs": [],
   "source": [
    "dirmap = {\n",
    "    '>':Vec(1,0),\n",
    "    '<':Vec(-1,0),\n",
    "    '^':Vec(0,-1),\n",
    "    'v':Vec(0,1)\n",
    "}"
   ]
  },
  {
   "cell_type": "code",
   "execution_count": 183,
   "metadata": {},
   "outputs": [],
   "source": [
    "@cache\n",
    "def check_x_in_path(pad, pos, path):\n",
    "    for move in path:\n",
    "        pos += dirmap[move]\n",
    "        if pad[pos] == 'X':\n",
    "            return True\n",
    "    return False\n",
    "\n",
    "@cache\n",
    "def vec_to_path(v, get_all=True): \n",
    "    # kann nur 2 kürzeste geben. davon kann 1 kaputt sein. welcher kürzer ist erst später ersichtlich?\n",
    "    # reihenfolge >^v< sorgt für nicht kaputt aber evtl nicht der kürzeste\n",
    "    \n",
    "    if get_all:\n",
    "        ret = []\n",
    "        xchar = '>'*abs(v.x) if v.x>0 else '<'*abs(v.x)\n",
    "        ychar = 'v'*abs(v.y) if v.y>0 else '^'*abs(v.y)\n",
    "        return [xchar+ychar, ychar+xchar]\n",
    "    ret = \"\"\n",
    "    # if x <= v and Vec(0, 0) <= x: # x liegt auf pfad evtl\n",
    "    #     if v.x > 0:\n",
    "    #         ret += '>' * v.x\n",
    "    #     if v.y < 0:\n",
    "    #         ret += '^' * abs(v.y)\n",
    "    #     if v.x < 0:\n",
    "    #         ret += '<' * abs(v.x)\n",
    "    #     if v.y > 0:\n",
    "    #         ret += 'v' * v.y\n",
    "    # else:\n",
    "    if v.x > 0:\n",
    "        ret += '>' * v.x\n",
    "    if v.y > 0:\n",
    "        ret += 'v' * v.y\n",
    "    if v.y < 0:\n",
    "        ret += '^' * abs(v.y)\n",
    "    if v.x < 0:\n",
    "        ret += '<' * abs(v.x)\n",
    "        \n",
    "    return [ret]\n",
    "\n",
    "@cache\n",
    "def get_instructions_moves(pad, start, end):\n",
    "    # print(start,end)\n",
    "    sp = Vec(*list(zip(*np.where(pad==start)))[0])\n",
    "    ep = Vec(*list(zip(*np.where(pad==end)))[0])\n",
    "    dist = ep - sp\n",
    "    get_all = pad.shape == numpad.shape\n",
    "    return [path for path in vec_to_path(dist, get_all) if not check_x_in_path(pad, sp, path)]\n",
    "    \n",
    "@cache\n",
    "def get_instructions(code, depth):\n",
    "    \"\"\"get instruction set that causes robot to type Code\"\"\"\n",
    "    print(depth)\n",
    "    if code[0].isnumeric():\n",
    "        pad = numpad\n",
    "    else:\n",
    "        pad = dirpad\n",
    "    instructions = [\"\"]\n",
    "    code = 'A' + code\n",
    "    for start, end in zip(code, code[1:]):\n",
    "        # print(start,end)\n",
    "        # instructions += get_instructions_moves(pad, start, end) + 'A'\n",
    "        new_instructions = get_instructions_moves(pad, start, end)\n",
    "        new_instructionset = []\n",
    "        for instruction in instructions:\n",
    "            for new_instruction in new_instructions:\n",
    "                new_instructionset.append(instruction + new_instruction + 'A')\n",
    "            instructions = new_instructionset\n",
    "    instructions = list(set(instructions))\n",
    "    # print(depth, instructions)\n",
    "    if depth == 0:\n",
    "        return min(map(len, instructions))\n",
    "    else:\n",
    "        return min([get_instructions(instruction, depth-1) for instruction in instructions])\n",
    "\n",
    "@cache\n",
    "def get_complexity(code, intermediate_pads = 2):\n",
    "    l1 = get_instructions('A' + code, intermediate_pads)\n",
    "    return l1\n",
    "    # return shortest * int(code[:-1]), shortest, code"
   ]
  },
  {
   "cell_type": "code",
   "execution_count": 184,
   "metadata": {},
   "outputs": [
    {
     "name": "stdout",
     "output_type": "stream",
     "text": [
      "25\n",
      "24\n",
      "23\n",
      "22\n",
      "21\n",
      "20\n",
      "19\n",
      "18\n",
      "17\n",
      "16\n",
      "15\n",
      "14\n",
      "13\n",
      "12\n"
     ]
    },
    {
     "ename": "KeyboardInterrupt",
     "evalue": "",
     "output_type": "error",
     "traceback": [
      "\u001b[1;31m---------------------------------------------------------------------------\u001b[0m",
      "\u001b[1;31mKeyboardInterrupt\u001b[0m                         Traceback (most recent call last)",
      "Cell \u001b[1;32mIn[184], line 1\u001b[0m\n\u001b[1;32m----> 1\u001b[0m get_instructions(\u001b[38;5;124m\"\u001b[39m\u001b[38;5;124m980A\u001b[39m\u001b[38;5;124m\"\u001b[39m, \u001b[38;5;241m25\u001b[39m)\n",
      "Cell \u001b[1;32mIn[183], line 85\u001b[0m, in \u001b[0;36mget_instructions\u001b[1;34m(code, depth)\u001b[0m\n\u001b[0;32m     83\u001b[0m     \u001b[38;5;28;01mreturn\u001b[39;00m \u001b[38;5;28mmin\u001b[39m(\u001b[38;5;28mmap\u001b[39m(\u001b[38;5;28mlen\u001b[39m, instructions))\n\u001b[0;32m     84\u001b[0m \u001b[38;5;28;01melse\u001b[39;00m:\n\u001b[1;32m---> 85\u001b[0m     \u001b[38;5;28;01mreturn\u001b[39;00m \u001b[38;5;28mmin\u001b[39m([get_instructions(instruction, depth\u001b[38;5;241m-\u001b[39m\u001b[38;5;241m1\u001b[39m) \u001b[38;5;28;01mfor\u001b[39;00m instruction \u001b[38;5;129;01min\u001b[39;00m instructions])\n",
      "Cell \u001b[1;32mIn[183], line 85\u001b[0m, in \u001b[0;36m<listcomp>\u001b[1;34m(.0)\u001b[0m\n\u001b[0;32m     83\u001b[0m     \u001b[38;5;28;01mreturn\u001b[39;00m \u001b[38;5;28mmin\u001b[39m(\u001b[38;5;28mmap\u001b[39m(\u001b[38;5;28mlen\u001b[39m, instructions))\n\u001b[0;32m     84\u001b[0m \u001b[38;5;28;01melse\u001b[39;00m:\n\u001b[1;32m---> 85\u001b[0m     \u001b[38;5;28;01mreturn\u001b[39;00m \u001b[38;5;28mmin\u001b[39m([get_instructions(instruction, depth\u001b[38;5;241m-\u001b[39m\u001b[38;5;241m1\u001b[39m) \u001b[38;5;28;01mfor\u001b[39;00m instruction \u001b[38;5;129;01min\u001b[39;00m instructions])\n",
      "Cell \u001b[1;32mIn[183], line 85\u001b[0m, in \u001b[0;36mget_instructions\u001b[1;34m(code, depth)\u001b[0m\n\u001b[0;32m     83\u001b[0m     \u001b[38;5;28;01mreturn\u001b[39;00m \u001b[38;5;28mmin\u001b[39m(\u001b[38;5;28mmap\u001b[39m(\u001b[38;5;28mlen\u001b[39m, instructions))\n\u001b[0;32m     84\u001b[0m \u001b[38;5;28;01melse\u001b[39;00m:\n\u001b[1;32m---> 85\u001b[0m     \u001b[38;5;28;01mreturn\u001b[39;00m \u001b[38;5;28mmin\u001b[39m([get_instructions(instruction, depth\u001b[38;5;241m-\u001b[39m\u001b[38;5;241m1\u001b[39m) \u001b[38;5;28;01mfor\u001b[39;00m instruction \u001b[38;5;129;01min\u001b[39;00m instructions])\n",
      "Cell \u001b[1;32mIn[183], line 85\u001b[0m, in \u001b[0;36m<listcomp>\u001b[1;34m(.0)\u001b[0m\n\u001b[0;32m     83\u001b[0m     \u001b[38;5;28;01mreturn\u001b[39;00m \u001b[38;5;28mmin\u001b[39m(\u001b[38;5;28mmap\u001b[39m(\u001b[38;5;28mlen\u001b[39m, instructions))\n\u001b[0;32m     84\u001b[0m \u001b[38;5;28;01melse\u001b[39;00m:\n\u001b[1;32m---> 85\u001b[0m     \u001b[38;5;28;01mreturn\u001b[39;00m \u001b[38;5;28mmin\u001b[39m([get_instructions(instruction, depth\u001b[38;5;241m-\u001b[39m\u001b[38;5;241m1\u001b[39m) \u001b[38;5;28;01mfor\u001b[39;00m instruction \u001b[38;5;129;01min\u001b[39;00m instructions])\n",
      "    \u001b[1;31m[... skipping similar frames: <listcomp> at line 85 (10 times), get_instructions at line 85 (10 times)]\u001b[0m\n",
      "Cell \u001b[1;32mIn[183], line 85\u001b[0m, in \u001b[0;36mget_instructions\u001b[1;34m(code, depth)\u001b[0m\n\u001b[0;32m     83\u001b[0m     \u001b[38;5;28;01mreturn\u001b[39;00m \u001b[38;5;28mmin\u001b[39m(\u001b[38;5;28mmap\u001b[39m(\u001b[38;5;28mlen\u001b[39m, instructions))\n\u001b[0;32m     84\u001b[0m \u001b[38;5;28;01melse\u001b[39;00m:\n\u001b[1;32m---> 85\u001b[0m     \u001b[38;5;28;01mreturn\u001b[39;00m \u001b[38;5;28mmin\u001b[39m([get_instructions(instruction, depth\u001b[38;5;241m-\u001b[39m\u001b[38;5;241m1\u001b[39m) \u001b[38;5;28;01mfor\u001b[39;00m instruction \u001b[38;5;129;01min\u001b[39;00m instructions])\n",
      "Cell \u001b[1;32mIn[183], line 85\u001b[0m, in \u001b[0;36m<listcomp>\u001b[1;34m(.0)\u001b[0m\n\u001b[0;32m     83\u001b[0m     \u001b[38;5;28;01mreturn\u001b[39;00m \u001b[38;5;28mmin\u001b[39m(\u001b[38;5;28mmap\u001b[39m(\u001b[38;5;28mlen\u001b[39m, instructions))\n\u001b[0;32m     84\u001b[0m \u001b[38;5;28;01melse\u001b[39;00m:\n\u001b[1;32m---> 85\u001b[0m     \u001b[38;5;28;01mreturn\u001b[39;00m \u001b[38;5;28mmin\u001b[39m([get_instructions(instruction, depth\u001b[38;5;241m-\u001b[39m\u001b[38;5;241m1\u001b[39m) \u001b[38;5;28;01mfor\u001b[39;00m instruction \u001b[38;5;129;01min\u001b[39;00m instructions])\n",
      "Cell \u001b[1;32mIn[183], line 79\u001b[0m, in \u001b[0;36mget_instructions\u001b[1;34m(code, depth)\u001b[0m\n\u001b[0;32m     77\u001b[0m         \u001b[38;5;28;01mfor\u001b[39;00m new_instruction \u001b[38;5;129;01min\u001b[39;00m new_instructions:\n\u001b[0;32m     78\u001b[0m             new_instructionset\u001b[38;5;241m.\u001b[39mappend(instruction \u001b[38;5;241m+\u001b[39m new_instruction \u001b[38;5;241m+\u001b[39m \u001b[38;5;124m'\u001b[39m\u001b[38;5;124mA\u001b[39m\u001b[38;5;124m'\u001b[39m)\n\u001b[1;32m---> 79\u001b[0m         instructions \u001b[38;5;241m=\u001b[39m new_instructionset\n\u001b[0;32m     80\u001b[0m instructions \u001b[38;5;241m=\u001b[39m \u001b[38;5;28mlist\u001b[39m(\u001b[38;5;28mset\u001b[39m(instructions))\n\u001b[0;32m     81\u001b[0m \u001b[38;5;66;03m# print(depth, instructions)\u001b[39;00m\n",
      "\u001b[1;31mKeyboardInterrupt\u001b[0m: "
     ]
    }
   ],
   "source": [
    "get_instructions(\"980A\", 25)"
   ]
  },
  {
   "cell_type": "code",
   "execution_count": 37,
   "metadata": {},
   "outputs": [
    {
     "name": "stdout",
     "output_type": "stream",
     "text": [
      "A 2\n",
      "2 8\n",
      "8 6\n",
      "6 A\n",
      "A ^\n"
     ]
    },
    {
     "ename": "IndexError",
     "evalue": "list index out of range",
     "output_type": "error",
     "traceback": [
      "\u001b[1;31m---------------------------------------------------------------------------\u001b[0m",
      "\u001b[1;31mIndexError\u001b[0m                                Traceback (most recent call last)",
      "Cell \u001b[1;32mIn[37], line 3\u001b[0m\n\u001b[0;32m      1\u001b[0m s\u001b[38;5;241m=\u001b[39m\u001b[38;5;241m0\u001b[39m\n\u001b[0;32m      2\u001b[0m \u001b[38;5;28;01mfor\u001b[39;00m code \u001b[38;5;129;01min\u001b[39;00m codes:\n\u001b[1;32m----> 3\u001b[0m     comp, l, c \u001b[38;5;241m=\u001b[39m get_complexity(code, \u001b[38;5;241m25\u001b[39m)\n\u001b[0;32m      4\u001b[0m     \u001b[38;5;28mprint\u001b[39m(comp, l, c)\n\u001b[0;32m      5\u001b[0m     s\u001b[38;5;241m+\u001b[39m\u001b[38;5;241m=\u001b[39mcomp\n",
      "Cell \u001b[1;32mIn[35], line 83\u001b[0m, in \u001b[0;36mget_complexity\u001b[1;34m(code, intermediate_pads)\u001b[0m\n\u001b[0;32m     81\u001b[0m \u001b[38;5;129m@cache\u001b[39m\n\u001b[0;32m     82\u001b[0m \u001b[38;5;28;01mdef\u001b[39;00m \u001b[38;5;21mget_complexity\u001b[39m(code, intermediate_pads \u001b[38;5;241m=\u001b[39m \u001b[38;5;241m2\u001b[39m):\n\u001b[1;32m---> 83\u001b[0m     l1 \u001b[38;5;241m=\u001b[39m get_instructions(numpad, \u001b[38;5;124m'\u001b[39m\u001b[38;5;124mA\u001b[39m\u001b[38;5;124m'\u001b[39m \u001b[38;5;241m+\u001b[39m code, \u001b[38;5;241m1\u001b[39m)\n\u001b[0;32m     84\u001b[0m     l2 \u001b[38;5;241m=\u001b[39m get_instructions(dirpad, \u001b[38;5;124m'\u001b[39m\u001b[38;5;124mA\u001b[39m\u001b[38;5;124m'\u001b[39m \u001b[38;5;241m+\u001b[39m l1, intermediate_pads)\n\u001b[0;32m     85\u001b[0m     \u001b[38;5;28;01mreturn\u001b[39;00m l2\n",
      "Cell \u001b[1;32mIn[35], line 79\u001b[0m, in \u001b[0;36mget_instructions\u001b[1;34m(pad, code, depth)\u001b[0m\n\u001b[0;32m     77\u001b[0m     \u001b[38;5;28;01mreturn\u001b[39;00m \u001b[38;5;28mmin\u001b[39m(\u001b[38;5;28mmap\u001b[39m(\u001b[38;5;28mlen\u001b[39m, instructions))\n\u001b[0;32m     78\u001b[0m \u001b[38;5;28;01melse\u001b[39;00m:\n\u001b[1;32m---> 79\u001b[0m     \u001b[38;5;28;01mreturn\u001b[39;00m \u001b[38;5;28mmin\u001b[39m([get_instructions(pad, \u001b[38;5;124m'\u001b[39m\u001b[38;5;124mA\u001b[39m\u001b[38;5;124m'\u001b[39m \u001b[38;5;241m+\u001b[39m instruction, depth\u001b[38;5;241m-\u001b[39m\u001b[38;5;241m1\u001b[39m) \u001b[38;5;28;01mfor\u001b[39;00m instruction \u001b[38;5;129;01min\u001b[39;00m instructions])\n",
      "Cell \u001b[1;32mIn[35], line 79\u001b[0m, in \u001b[0;36m<listcomp>\u001b[1;34m(.0)\u001b[0m\n\u001b[0;32m     77\u001b[0m     \u001b[38;5;28;01mreturn\u001b[39;00m \u001b[38;5;28mmin\u001b[39m(\u001b[38;5;28mmap\u001b[39m(\u001b[38;5;28mlen\u001b[39m, instructions))\n\u001b[0;32m     78\u001b[0m \u001b[38;5;28;01melse\u001b[39;00m:\n\u001b[1;32m---> 79\u001b[0m     \u001b[38;5;28;01mreturn\u001b[39;00m \u001b[38;5;28mmin\u001b[39m([get_instructions(pad, \u001b[38;5;124m'\u001b[39m\u001b[38;5;124mA\u001b[39m\u001b[38;5;124m'\u001b[39m \u001b[38;5;241m+\u001b[39m instruction, depth\u001b[38;5;241m-\u001b[39m\u001b[38;5;241m1\u001b[39m) \u001b[38;5;28;01mfor\u001b[39;00m instruction \u001b[38;5;129;01min\u001b[39;00m instructions])\n",
      "Cell \u001b[1;32mIn[35], line 68\u001b[0m, in \u001b[0;36mget_instructions\u001b[1;34m(pad, code, depth)\u001b[0m\n\u001b[0;32m     64\u001b[0m instructions \u001b[38;5;241m=\u001b[39m [\u001b[38;5;124m\"\u001b[39m\u001b[38;5;124m\"\u001b[39m]\n\u001b[0;32m     65\u001b[0m \u001b[38;5;28;01mfor\u001b[39;00m start, end \u001b[38;5;129;01min\u001b[39;00m window(code):\n\u001b[0;32m     66\u001b[0m     \u001b[38;5;66;03m# print(start,end)\u001b[39;00m\n\u001b[0;32m     67\u001b[0m     \u001b[38;5;66;03m# instructions += get_instructions_moves(pad, start, end) + 'A'\u001b[39;00m\n\u001b[1;32m---> 68\u001b[0m     new_instructions \u001b[38;5;241m=\u001b[39m get_instructions_moves(pad, start, end)\n\u001b[0;32m     69\u001b[0m     new_instructionset \u001b[38;5;241m=\u001b[39m []\n\u001b[0;32m     70\u001b[0m     \u001b[38;5;28;01mfor\u001b[39;00m instruction \u001b[38;5;129;01min\u001b[39;00m instructions:\n",
      "Cell \u001b[1;32mIn[35], line 56\u001b[0m, in \u001b[0;36mget_instructions_moves\u001b[1;34m(pad, start, end)\u001b[0m\n\u001b[0;32m     54\u001b[0m \u001b[38;5;28mprint\u001b[39m(start,end)\n\u001b[0;32m     55\u001b[0m sp \u001b[38;5;241m=\u001b[39m Vec(\u001b[38;5;241m*\u001b[39m\u001b[38;5;28mlist\u001b[39m(\u001b[38;5;28mzip\u001b[39m(\u001b[38;5;241m*\u001b[39mnp\u001b[38;5;241m.\u001b[39mwhere(pad\u001b[38;5;241m==\u001b[39mstart)))[\u001b[38;5;241m0\u001b[39m])\n\u001b[1;32m---> 56\u001b[0m ep \u001b[38;5;241m=\u001b[39m Vec(\u001b[38;5;241m*\u001b[39m\u001b[38;5;28mlist\u001b[39m(\u001b[38;5;28mzip\u001b[39m(\u001b[38;5;241m*\u001b[39mnp\u001b[38;5;241m.\u001b[39mwhere(pad\u001b[38;5;241m==\u001b[39mend)))[\u001b[38;5;241m0\u001b[39m])\n\u001b[0;32m     57\u001b[0m dist \u001b[38;5;241m=\u001b[39m ep \u001b[38;5;241m-\u001b[39m sp\n\u001b[0;32m     58\u001b[0m get_all \u001b[38;5;241m=\u001b[39m pad\u001b[38;5;241m.\u001b[39mshape \u001b[38;5;241m==\u001b[39m numpad\u001b[38;5;241m.\u001b[39mshape\n",
      "\u001b[1;31mIndexError\u001b[0m: list index out of range"
     ]
    }
   ],
   "source": [
    "s=0\n",
    "for code in codes:\n",
    "    comp, l, c = get_complexity(code, 25)\n",
    "    print(comp, l, c)\n",
    "    s+=comp\n",
    "s"
   ]
  },
  {
   "cell_type": "code",
   "execution_count": 500,
   "metadata": {},
   "outputs": [],
   "source": [
    "# 374412 too low"
   ]
  },
  {
   "cell_type": "code",
   "execution_count": null,
   "metadata": {},
   "outputs": [],
   "source": [
    "@cache\n",
    "def window(seq, n=2):\n",
    "    \"Returns a sliding window (of width n and step 1) over data from the iterable\"\n",
    "    it = iter(seq)\n",
    "    result = tuple(islice(it, n))\n",
    "    if len(result) == n:\n",
    "        yield result\n",
    "    for elem in it:\n",
    "        result = result[1:] + (elem,)\n",
    "        yield result\n",
    "\n",
    "@cache\n",
    "def check_x_in_path(pad, pos, path):\n",
    "    for move in path:\n",
    "        pos += dirmap[move]\n",
    "        if pad[pos] == 'X':\n",
    "            return True\n",
    "    return False\n",
    "\n",
    "@cache\n",
    "def vec_to_path(v, get_all=True): \n",
    "    # kann nur 2 kürzeste geben. davon kann 1 kaputt sein. welcher kürzer ist erst später ersichtlich?\n",
    "    # reihenfolge >^v< sorgt für nicht kaputt aber evtl nicht der kürzeste\n",
    "    \n",
    "    if get_all:\n",
    "        ret = []\n",
    "        xchar = '>'*abs(v.x) if v.x>0 else '<'*abs(v.x)\n",
    "        ychar = 'v'*abs(v.y) if v.y>0 else '^'*abs(v.y)\n",
    "        return [xchar+ychar, ychar+xchar]\n",
    "    ret = \"\"\n",
    "    # if x <= v and Vec(0, 0) <= x: # x liegt auf pfad evtl\n",
    "    #     if v.x > 0:\n",
    "    #         ret += '>' * v.x\n",
    "    #     if v.y < 0:\n",
    "    #         ret += '^' * abs(v.y)\n",
    "    #     if v.x < 0:\n",
    "    #         ret += '<' * abs(v.x)\n",
    "    #     if v.y > 0:\n",
    "    #         ret += 'v' * v.y\n",
    "    # else:\n",
    "    if v.x > 0:\n",
    "        ret += '>' * v.x\n",
    "    if v.y > 0:\n",
    "        ret += 'v' * v.y\n",
    "    if v.y < 0:\n",
    "        ret += '^' * abs(v.y)\n",
    "    if v.x < 0:\n",
    "        ret += '<' * abs(v.x)\n",
    "        \n",
    "    return [ret]\n",
    "\n",
    "@cache\n",
    "def get_instructions_moves(pad, start, end):\n",
    "    sp = Vec(*list(zip(*np.where(pad==start)))[0])\n",
    "    ep = Vec(*list(zip(*np.where(pad==end)))[0])\n",
    "    dist = ep - sp\n",
    "    get_all = pad.shape == numpad.shape\n",
    "    return [path for path in vec_to_path(dist, get_all) if not check_x_in_path(pad, sp, path)]\n",
    "    \n",
    "@cache\n",
    "def get_instructions(pad, code):\n",
    "    \"\"\"get instruction set that causes robot to type Code\"\"\"\n",
    "    instructions = [\"\"]\n",
    "    for start, end in window(code):\n",
    "        # print(start,end)\n",
    "        # instructions += get_instructions_moves(pad, start, end) + 'A'\n",
    "        new_instructions = get_instructions_moves(pad, start, end)\n",
    "        new_instructionset = []\n",
    "        for instruction in instructions:\n",
    "            for new_instruction in new_instructions:\n",
    "                new_instructionset.append(instruction + new_instruction + 'A')\n",
    "            instructions = new_instructionset\n",
    "    return list(set(instructions))\n",
    "\n",
    "@cache\n",
    "def get_instructions_batch(pad, code, size=8):\n",
    "    code = 'A' + code\n",
    "    instructions = [\"\"]\n",
    "    # print(code)\n",
    "    for i in range(0, len(code), size):\n",
    "        # print(code[i:i+size+1])\n",
    "        new_instructions = get_instructions(pad, code[i:i+size+1])\n",
    "        new_instructionset = []\n",
    "        for instruction in instructions:\n",
    "            for new_instruction in new_instructions:\n",
    "                new_instructionset.append(instruction + new_instruction)\n",
    "            instructions = new_instructionset\n",
    "    return (list(set(instructions)))\n",
    "\n",
    "@cache\n",
    "def get_instructions_from_multiple(pad, codes):\n",
    "    instr = []\n",
    "    for code in codes:\n",
    "        instr.extend(get_instructions_batch(pad, code))\n",
    "    return instr\n",
    "    \n",
    "@cache\n",
    "def get_complexity(code, intermediate_pads = 2):\n",
    "    l1 = get_instructions_batch(numpad, code)\n",
    "    for i in range(intermediate_pads):\n",
    "        print(f\"{i}/{intermediate_pads}\", len(l1), len(l1[0]))\n",
    "        l1 = get_instructions_from_multiple(dirpad, tuple(l1))\n",
    "    shortest = min(map(len, l1))\n",
    "    return shortest * int(code[:-1]), shortest, code"
   ]
  },
  {
   "cell_type": "code",
   "execution_count": null,
   "metadata": {},
   "outputs": [
    {
     "data": {
      "text/plain": [
       "(['^<A^^Av>AvvA', '^<A^^A>vAvvA', '<^A^^Av>AvvA', '<^A^^A>vAvvA'],\n",
       " ['<Av<A>>^A<AA>Av<A>A^Av<AA>^A',\n",
       "  '<Av<A>>^A<AA>AvA<A>^Av<AA>^A',\n",
       "  'v<<A>^A>A<AA>Av<A>A^Av<AA>^A',\n",
       "  'v<<A>^A>A<AA>AvA<A>^Av<AA>^A'],\n",
       " ['v<<A>>^Av<A<A>>^AvAA^<A>Av<<A>>^AAvA^Av<A<A>>^AvA^A<A>Av<A<A>>^AAvA^<A>A',\n",
       "  'v<<A>>^Av<A<A>>^AvAA^<A>Av<<A>>^AAvA^Av<A>^Av<<A>>^AvA^<A>Av<A<A>>^AAvA^<A>A',\n",
       "  'v<A<AA>>^AvA^<A>AvA^Av<<A>>^AAvA^Av<A<A>>^AvA^A<A>Av<A<A>>^AAvA^<A>A',\n",
       "  'v<A<AA>>^AvA^<A>AvA^Av<<A>>^AAvA^Av<A>^Av<<A>>^AvA^<A>Av<A<A>>^AAvA^<A>A'])"
      ]
     },
     "execution_count": 571,
     "metadata": {},
     "output_type": "execute_result"
    }
   ],
   "source": [
    "l1 = get_instructions_batch(numpad, \"286A\")\n",
    "l2 = get_instructions_from_multiple(dirpad, tuple(l1))\n",
    "l3 = get_instructions_from_multiple(dirpad, tuple(l2))\n",
    "l1, l2, l3"
   ]
  }
 ],
 "metadata": {
  "kernelspec": {
   "display_name": "base",
   "language": "python",
   "name": "python3"
  },
  "language_info": {
   "codemirror_mode": {
    "name": "ipython",
    "version": 3
   },
   "file_extension": ".py",
   "mimetype": "text/x-python",
   "name": "python",
   "nbconvert_exporter": "python",
   "pygments_lexer": "ipython3",
   "version": "3.11.5"
  }
 },
 "nbformat": 4,
 "nbformat_minor": 2
}
