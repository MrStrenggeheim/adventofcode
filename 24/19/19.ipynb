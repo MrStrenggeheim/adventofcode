{
 "cells": [
  {
   "cell_type": "code",
   "execution_count": 93,
   "metadata": {},
   "outputs": [],
   "source": [
    "from functools import cache"
   ]
  },
  {
   "cell_type": "markdown",
   "metadata": {},
   "source": []
  },
  {
   "cell_type": "code",
   "execution_count": 94,
   "metadata": {},
   "outputs": [],
   "source": [
    "with open('input.txt') as file:\n",
    "    patterns, towels = file.read().split(\"\\n\\n\")\n",
    "patterns = patterns.split(\", \")\n",
    "towels = towels.split(\"\\n\")"
   ]
  },
  {
   "cell_type": "code",
   "execution_count": 95,
   "metadata": {},
   "outputs": [],
   "source": [
    "def check(towel):\n",
    "    global I \n",
    "    I += 1\n",
    "    if I > 25:\n",
    "        return False\n",
    "    if len(towel) == 0:\n",
    "        return True\n",
    "    for pattern in patterns:\n",
    "        if towel[:len(pattern)] == pattern:\n",
    "            if check(towel[len(pattern):]):\n",
    "                return True\n",
    "    return False"
   ]
  },
  {
   "cell_type": "code",
   "execution_count": 96,
   "metadata": {},
   "outputs": [
    {
     "data": {
      "text/plain": [
       "262"
      ]
     },
     "execution_count": 96,
     "metadata": {},
     "output_type": "execute_result"
    }
   ],
   "source": [
    "I = 0\n",
    "valid = []\n",
    "s = 0\n",
    "for towel in towels:\n",
    "    I = 0\n",
    "    if check(towel):\n",
    "        s += 1 \n",
    "        valid.append(towel)\n",
    "s"
   ]
  },
  {
   "cell_type": "code",
   "execution_count": 97,
   "metadata": {},
   "outputs": [],
   "source": [
    "class Node:\n",
    "    def __init__(self, val = 0):\n",
    "        self.val = val\n",
    "        self.next = dict()\n",
    "            \n",
    "    def insert(self, word):\n",
    "        c = word[0]\n",
    "        if c in self.next.keys():\n",
    "            if len(word) == 1:\n",
    "                self.next[c].val = 1\n",
    "            else:\n",
    "                self.next[c].insert(word[1:])\n",
    "        else:\n",
    "            if len(word) == 1:\n",
    "                self.next[c] = Node(val=1)\n",
    "            else:\n",
    "                self.next[c] = Node()\n",
    "                self.next[c].insert(word[1:])\n",
    "    \n",
    "    def search(self, word):\n",
    "        if len(word) == 0:\n",
    "            return self.val == 1\n",
    "        c = word[0]\n",
    "        if c in self.next.keys():\n",
    "            return self.next[c].search(word[1:])\n",
    "        return False\n",
    "    \n",
    "    def get_all_patterns(self, to_scan, scanned=\"\"):\n",
    "        \"\"\"get all patterns that match the beignning of word\"\"\"\n",
    "        ret = []\n",
    "        if self.val == 1:\n",
    "            ret.append(scanned)\n",
    "        if to_scan == \"\":\n",
    "            return ret\n",
    "        c = to_scan[0]\n",
    "        if c not in self.next.keys():\n",
    "            return ret\n",
    "        return ret + self.next[c].get_all_patterns(to_scan[1:], scanned=scanned+c)\n",
    "        "
   ]
  },
  {
   "cell_type": "code",
   "execution_count": 98,
   "metadata": {},
   "outputs": [],
   "source": [
    "root = Node()\n",
    "for pattern in patterns:\n",
    "    root.insert(pattern)"
   ]
  },
  {
   "cell_type": "code",
   "execution_count": 99,
   "metadata": {},
   "outputs": [
    {
     "name": "stdout",
     "output_type": "stream",
     "text": [
      "b\n",
      "u\n",
      "g\n",
      "r\n"
     ]
    },
    {
     "data": {
      "text/plain": [
       "44"
      ]
     },
     "execution_count": 99,
     "metadata": {},
     "output_type": "execute_result"
    }
   ],
   "source": [
    "@cache\n",
    "def count(towel):\n",
    "    if not towel:\n",
    "        return 1\n",
    "    c = 0\n",
    "    pats = root.get_all_patterns(towel)\n",
    "    for pat in pats:\n",
    "        print(pat)\n",
    "        c += count(towel[len(pat):])\n",
    "    return c\n",
    "sum(map(count, valid[0]))"
   ]
  },
  {
   "cell_type": "code",
   "execution_count": 100,
   "metadata": {},
   "outputs": [
    {
     "name": "stdout",
     "output_type": "stream",
     "text": [
      "wbu\n",
      "g\n",
      "b\n",
      "u\n",
      "g\n",
      "b\n",
      "g\n",
      "r\n",
      "g\n",
      "wu\n",
      "b\n",
      "g\n",
      "r\n",
      "r\n",
      "g\n",
      "r\n",
      "u\n",
      "b\n",
      "g\n",
      "b\n",
      "wu\n",
      "b\n",
      "u\n",
      "g\n",
      "r\n",
      "b\n",
      "r\n",
      "r\n",
      "u\n",
      "b\n",
      "g\n",
      "wg\n",
      "g\n",
      "g\n",
      "g\n",
      "u\n",
      "b\n",
      "r\n",
      "r\n",
      "r\n",
      "wr\n",
      "b\n",
      "r\n",
      "br\n",
      "wrb\n",
      "rw\n",
      "r\n",
      "rb\n",
      "rbr\n",
      "rwr\n",
      "rr\n",
      "rr\n",
      "rrr\n",
      "br\n",
      "brr\n",
      "ub\n",
      "ubr\n",
      "gu\n",
      "gub\n",
      "gg\n",
      "ggu\n",
      "gg\n",
      "ggg\n",
      "wgg\n",
      "gw\n",
      "g\n",
      "gg\n",
      "ggg\n",
      "gwg\n",
      "bg\n",
      "bgw\n",
      "bgwg\n",
      "ub\n",
      "ubg\n",
      "ru\n",
      "rub\n",
      "rubgwg\n",
      "rr\n",
      "rru\n",
      "rrub\n",
      "br\n",
      "brr\n",
      "rb\n",
      "rbr\n",
      "gr\n",
      "grb\n",
      "ug\n",
      "ugr\n",
      "bu\n",
      "bug\n",
      "wub\n",
      "bw\n",
      "u\n",
      "ub\n",
      "ubu\n",
      "ubug\n",
      "bwu\n",
      "gb\n",
      "gbw\n",
      "bg\n",
      "bgb\n",
      "bgbw\n",
      "ub\n",
      "ubg\n",
      "ubgb\n",
      "ru\n",
      "rub\n",
      "gr\n",
      "gru\n",
      "rg\n",
      "rgr\n",
      "rr\n",
      "rrg\n",
      "gr\n",
      "grr\n",
      "bg\n",
      "bgr\n",
      "bgrr\n",
      "wub\n",
      "wubg\n",
      "gw\n",
      "u\n",
      "ub\n",
      "ubg\n",
      "gwu\n",
      "rg\n",
      "rgw\n",
      "gr\n",
      "grg\n",
      "grgw\n",
      "bg\n",
      "bgr\n",
      "gb\n",
      "gbg\n",
      "ug\n",
      "ugb\n",
      "bu\n",
      "bug\n",
      "bugb\n",
      "gb\n",
      "gbu\n"
     ]
    },
    {
     "data": {
      "text/plain": [
       "256303878954"
      ]
     },
     "execution_count": 100,
     "metadata": {},
     "output_type": "execute_result"
    }
   ],
   "source": [
    "@cache\n",
    "def isValid(pattern):    \n",
    "    if not pattern:\n",
    "        return 1\n",
    "    \n",
    "    count = 0\n",
    "    for i in range(1, len(pattern) + 1):\n",
    "        prefix = pattern[0:i]\n",
    "        suffix = pattern[i:]\n",
    "        \n",
    "        if prefix in patterns:\n",
    "            print(prefix)\n",
    "            count += isValid(suffix)       \n",
    "    \n",
    "    return count\n",
    "isValid(valid[0])"
   ]
  },
  {
   "cell_type": "code",
   "execution_count": 101,
   "metadata": {},
   "outputs": [],
   "source": [
    "# 256303878954 low\n",
    "\n",
    "# 340480859555165\n",
    "# 571894474468161 r"
   ]
  }
 ],
 "metadata": {
  "kernelspec": {
   "display_name": "base",
   "language": "python",
   "name": "python3"
  },
  "language_info": {
   "codemirror_mode": {
    "name": "ipython",
    "version": 3
   },
   "file_extension": ".py",
   "mimetype": "text/x-python",
   "name": "python",
   "nbconvert_exporter": "python",
   "pygments_lexer": "ipython3",
   "version": "3.11.5"
  }
 },
 "nbformat": 4,
 "nbformat_minor": 2
}
