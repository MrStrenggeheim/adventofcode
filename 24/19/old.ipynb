{
 "cells": [
  {
   "cell_type": "code",
   "execution_count": 14,
   "metadata": {},
   "outputs": [],
   "source": [
    "from functools import cache"
   ]
  },
  {
   "cell_type": "code",
   "execution_count": 15,
   "metadata": {},
   "outputs": [],
   "source": [
    "with open('input.txt') as file:\n",
    "    patterns, towels = file.read().split(\"\\n\\n\")\n",
    "patterns = patterns.split(\", \")\n",
    "towels = towels.split(\"\\n\")"
   ]
  },
  {
   "cell_type": "code",
   "execution_count": 16,
   "metadata": {},
   "outputs": [],
   "source": [
    "patterns.sort(key=lambda x:len(x), reverse=True)"
   ]
  },
  {
   "cell_type": "code",
   "execution_count": 17,
   "metadata": {},
   "outputs": [],
   "source": [
    "def check(towel):\n",
    "    global I \n",
    "    I += 1\n",
    "    if I > 25:\n",
    "        return False\n",
    "    if len(towel) == 0:\n",
    "        return True\n",
    "    for pattern in patterns:\n",
    "        if towel[:len(pattern)] == pattern:\n",
    "            if check(towel[len(pattern):]):\n",
    "                return True\n",
    "    return False"
   ]
  },
  {
   "cell_type": "code",
   "execution_count": 24,
   "metadata": {},
   "outputs": [
    {
     "data": {
      "text/plain": [
       "287"
      ]
     },
     "execution_count": 24,
     "metadata": {},
     "output_type": "execute_result"
    }
   ],
   "source": [
    "I = 0\n",
    "s = 0\n",
    "for towel in towels:\n",
    "    I = 0\n",
    "    if check(towel):\n",
    "        s += 1\n",
    "s"
   ]
  },
  {
   "cell_type": "code",
   "execution_count": 19,
   "metadata": {},
   "outputs": [],
   "source": [
    "class Node:\n",
    "    def __init__(self, val = 0):\n",
    "        self.val = val\n",
    "        self.next = dict()\n",
    "            \n",
    "    def insert(self, word):\n",
    "        c = word[0]\n",
    "        if c in self.next.keys():\n",
    "            if len(word) == 1:\n",
    "                self.next[c].val = 1\n",
    "            else:\n",
    "                self.next[c].insert(word[1:])\n",
    "        else:\n",
    "            if len(word) == 1:\n",
    "                self.next[c] = Node(val=1)\n",
    "            else:\n",
    "                self.next[c] = Node()\n",
    "                self.next[c].insert(word[1:])\n",
    "    \n",
    "    def search(self, word):\n",
    "        if len(word) == 0:\n",
    "            return self.val == 1\n",
    "        c = word[0]\n",
    "        if c in self.next.keys():\n",
    "            return self.next[c].search(word[1:])\n",
    "        return False\n",
    "    \n",
    "    def get_all_patterns(self, to_scan, scanned=\"\"):\n",
    "        \"\"\"get all patterns that match the beignning of word\"\"\"\n",
    "        ret = []\n",
    "        if self.val == 1:\n",
    "            ret.append(scanned)\n",
    "        if to_scan == \"\":\n",
    "            return ret\n",
    "        c = to_scan[0]\n",
    "        if c not in self.next.keys():\n",
    "            return ret\n",
    "        return ret + self.next[c].get_all_patterns(to_scan[1:], scanned=scanned+c)\n",
    "        "
   ]
  },
  {
   "cell_type": "code",
   "execution_count": 20,
   "metadata": {},
   "outputs": [],
   "source": [
    "root = Node()\n",
    "for pattern in patterns:\n",
    "    root.insert(pattern)"
   ]
  },
  {
   "cell_type": "code",
   "execution_count": 21,
   "metadata": {},
   "outputs": [],
   "source": [
    "@cache\n",
    "def count(towel):    \n",
    "    if not towel:\n",
    "        return 1\n",
    "    \n",
    "    c = 0\n",
    "    for pattern in root.get_all_patterns(towel):\n",
    "        c += count(towel[len(pattern):])       \n",
    "    \n",
    "    return c"
   ]
  },
  {
   "cell_type": "code",
   "execution_count": 25,
   "metadata": {},
   "outputs": [
    {
     "data": {
      "text/plain": [
       "571894474468161"
      ]
     },
     "execution_count": 25,
     "metadata": {},
     "output_type": "execute_result"
    }
   ],
   "source": [
    "sum(map(count, towels))"
   ]
  }
 ],
 "metadata": {
  "kernelspec": {
   "display_name": "base",
   "language": "python",
   "name": "python3"
  },
  "language_info": {
   "codemirror_mode": {
    "name": "ipython",
    "version": 3
   },
   "file_extension": ".py",
   "mimetype": "text/x-python",
   "name": "python",
   "nbconvert_exporter": "python",
   "pygments_lexer": "ipython3",
   "version": "3.11.5"
  }
 },
 "nbformat": 4,
 "nbformat_minor": 2
}
