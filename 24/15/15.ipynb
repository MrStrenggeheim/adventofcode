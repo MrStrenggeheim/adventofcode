{
 "cells": [
  {
   "cell_type": "code",
   "execution_count": 698,
   "metadata": {},
   "outputs": [],
   "source": [
    "import sys\n",
    "sys.path.append(\"..\")\n",
    "from utils.utils import Matrix, Vec\n",
    "import numpy as np\n",
    "from IPython.display import clear_output\n",
    "from time import sleep"
   ]
  },
  {
   "cell_type": "markdown",
   "metadata": {},
   "source": [
    "# Part 1"
   ]
  },
  {
   "cell_type": "code",
   "execution_count": 699,
   "metadata": {},
   "outputs": [],
   "source": [
    "instr_map = {\n",
    "    \">\" : Vec(1, 0),\n",
    "    \"v\" : Vec(0, 1),\n",
    "    \"<\" : Vec(-1, 0),\n",
    "    \"^\" : Vec(0, -1)\n",
    "}"
   ]
  },
  {
   "cell_type": "code",
   "execution_count": 700,
   "metadata": {},
   "outputs": [],
   "source": [
    "def print_field(field, rob):\n",
    "    m = np.copy(field).view(Matrix)\n",
    "    m[rob] = '@'\n",
    "    print(m)"
   ]
  },
  {
   "cell_type": "code",
   "execution_count": 701,
   "metadata": {},
   "outputs": [
    {
     "data": {
      "text/plain": [
       "1412971"
      ]
     },
     "execution_count": 701,
     "metadata": {},
     "output_type": "execute_result"
    }
   ],
   "source": [
    "with open(\"input.txt\") as file:\n",
    "    field, instructions = file.read().split(\"\\n\\n\")\n",
    "field = Matrix.from_str(field)\n",
    "instructions = instructions.replace(\"\\n\", \"\")\n",
    "rob = Vec(*list(zip(*np.where(field == '@')))[0])\n",
    "field[rob] = '.'\n",
    "\n",
    "for move in instructions:\n",
    "    dir = instr_map[move]\n",
    "    newPos = rob + dir\n",
    "    newVal = field[newPos]\n",
    "    if newVal == '.':\n",
    "        rob = newPos\n",
    "    elif newVal == '#':\n",
    "        continue\n",
    "    elif newVal == 'O':\n",
    "        cur = newPos\n",
    "        while field[cur] != '#':\n",
    "            if field[cur] == '.':\n",
    "                field[cur] = 'O'\n",
    "                field[newPos] = '.'\n",
    "                rob = newPos\n",
    "                break\n",
    "            cur += dir\n",
    "        continue\n",
    "    \n",
    "# print_field(field, rob)\n",
    "x, y = np.where(field == 'O')\n",
    "sum(x + 100 * y)"
   ]
  },
  {
   "cell_type": "markdown",
   "metadata": {},
   "source": [
    "# Part 2"
   ]
  },
  {
   "cell_type": "code",
   "execution_count": 702,
   "metadata": {},
   "outputs": [],
   "source": [
    "with open(\"test.txt\") as file:\n",
    "    field, instructions = file.read().split(\"\\n\\n\")\n",
    "field = field.replace(\"#\", \"##\")\n",
    "field = field.replace(\"O\", \"[]\")\n",
    "field = field.replace(\".\", \"..\")\n",
    "field = field.replace(\"@\", \"@.\")\n",
    "field = Matrix.from_str(field)\n",
    "instructions = instructions.replace(\"\\n\", \"\")\n",
    "\n",
    "shape = Vec(*field.shape)\n",
    "rob = Vec(*list(zip(*np.where(field == '@')))[0])\n",
    "boxes = [Vec(*box) for box in list(zip(*np.where(field == '[')))]\n",
    "walls = [Vec(*box) for box in list(zip(*np.where(field == '#')))]"
   ]
  },
  {
   "cell_type": "code",
   "execution_count": 703,
   "metadata": {},
   "outputs": [],
   "source": [
    "def print_field2(rob, boxes, walls, shape, symbol='@'):\n",
    "    m = Matrix(np.full((shape.x, shape.y), '.'))\n",
    "    # m = np.pad(m, ((2, 2), (1, 1)), 'constant', constant_values='#').view(Matrix)\n",
    "    for wall in walls:\n",
    "        m[wall] = '#'\n",
    "    for box in boxes:\n",
    "        m[box] = '['\n",
    "        m[box + Vec(1,0)] = ']'\n",
    "    m[rob] = symbol\n",
    "    return str(m)"
   ]
  },
  {
   "cell_type": "code",
   "execution_count": 704,
   "metadata": {},
   "outputs": [],
   "source": [
    "# pivot boxes on left edge\n",
    "right = Vec(1, 0)\n",
    "left = Vec(-1, 0)\n",
    "up = Vec(0, -1)\n",
    "down = Vec(0, 1)\n",
    "vertical_moves = [up, down]\n",
    "    \n",
    "def check(pos, dir):\n",
    "    newBoxes = []\n",
    "    if pos + dir in walls or pos + dir + right in walls:\n",
    "        return False, newBoxes\n",
    "    if pos + dir in boxes:\n",
    "        return True, [pos+dir]\n",
    "    if pos + dir + right in boxes:\n",
    "        newBoxes.append(pos+dir+right)\n",
    "    if pos + dir + left in boxes:\n",
    "        newBoxes.append(pos+dir+left)\n",
    "    return True, newBoxes\n",
    "        \n",
    "def move_box_vert(pos, dir):\n",
    "    to_check = [pos]\n",
    "    to_move = []\n",
    "    while to_check:\n",
    "        nextBox = to_check.pop()\n",
    "        to_move.append(boxes[boxes.index(nextBox)])\n",
    "        can_move, newBoxes = check(nextBox, dir)\n",
    "        if not can_move:\n",
    "            return False\n",
    "        to_check.extend(newBoxes)\n",
    "        to_move.extend(newBoxes)\n",
    "    [box.update(dir) for box in to_move]\n",
    "    return True\n",
    "    \n",
    "        \n",
    "def move_box_right(pos, dir):\n",
    "    to_move = []\n",
    "    cur = pos\n",
    "    while cur not in walls:\n",
    "        if cur in boxes:\n",
    "            to_move.append(boxes[boxes.index(cur)])\n",
    "            cur += dir * 2\n",
    "        else: # free space -> update all boxes\n",
    "            [box.update(dir) for box in to_move]\n",
    "            return True\n",
    "    return False\n",
    "\n",
    "def move_box_left(pos, dir):\n",
    "    to_move = []\n",
    "    cur = pos\n",
    "    while cur not in walls:\n",
    "        if cur in boxes:\n",
    "            # print(\"box\")\n",
    "            to_move.append(boxes[boxes.index(cur)])\n",
    "            cur += dir\n",
    "            if cur not in walls and cur + dir not in boxes:\n",
    "                [box.update(dir) for box in to_move]\n",
    "                return True\n",
    "            cur += dir \n",
    "        else: # free space -> update all boxes\n",
    "            [box.update(dir) for box in to_move]\n",
    "            return True\n",
    "    return False\n",
    "\n",
    "def move_box(pos, dir):\n",
    "    if dir in vertical_moves:\n",
    "        return move_box_vert(pos, dir)\n",
    "    elif dir == right:\n",
    "        return move_box_right(pos, dir)\n",
    "    else:\n",
    "        return move_box_left(pos, dir)"
   ]
  },
  {
   "cell_type": "code",
   "execution_count": 705,
   "metadata": {},
   "outputs": [],
   "source": [
    "def make_move(move):\n",
    "    dir = instr_map[move]\n",
    "    newPos = rob + dir\n",
    "    can_move = False\n",
    "    if newPos in boxes:\n",
    "        can_move = move_box(newPos, dir)\n",
    "    elif newPos+left in boxes:\n",
    "        can_move = move_box(newPos+left, dir)\n",
    "    elif newPos not in walls:\n",
    "        can_move = True\n",
    "    if can_move:\n",
    "        rob = newPos"
   ]
  },
  {
   "cell_type": "code",
   "execution_count": 706,
   "metadata": {},
   "outputs": [
    {
     "name": "stdout",
     "output_type": "stream",
     "text": [
      "####################\n",
      "##....[]....[]..[]##\n",
      "##............[]..##\n",
      "##..[][]....[]..[]##\n",
      "##....[].....>[][]##\n",
      "##[]##............##\n",
      "##[]..........[]..##\n",
      "##..[][][][]..[][]##\n",
      "##........[]......##\n",
      "####################\n",
      "####################\n",
      "##....[]....[]..[]##\n",
      "##............[]..##\n",
      "##..[][]....[]..[]##\n",
      "##....[].....>[][]##\n",
      "##[]##............##\n",
      "##[]..........[]..##\n",
      "##..[][][][]..[][]##\n",
      "##........[]......##\n",
      "####################\n"
     ]
    },
    {
     "data": {
      "text/plain": [
       "9808"
      ]
     },
     "execution_count": 706,
     "metadata": {},
     "output_type": "execute_result"
    }
   ],
   "source": [
    "# dh = display(print_field2(rob, boxes, shape), display_id=True, \n",
    "instructions = 'vv>>^<^>>>>'\n",
    "for move in instructions:\n",
    "    dir = instr_map[move]\n",
    "    newPos = rob + dir\n",
    "    can_move = False\n",
    "    if newPos in boxes:\n",
    "        can_move = move_box(newPos, dir)\n",
    "    elif newPos+left in boxes:\n",
    "        can_move = move_box(newPos+left, dir)\n",
    "    elif newPos not in walls:\n",
    "        can_move = True\n",
    "    if can_move:\n",
    "        rob = newPos\n",
    "    # x = input()\n",
    "    # if x == 'x':\n",
    "    #     break\n",
    "    clear_output(wait=True)\n",
    "    print(print_field2(rob, boxes, walls, shape, symbol=move))\n",
    "    sleep(1)\n",
    "\n",
    "print(print_field2(rob, boxes, walls, shape, symbol=move))\n",
    "sum([box.x + box.y*100 for box in boxes])"
   ]
  },
  {
   "cell_type": "code",
   "execution_count": 707,
   "metadata": {},
   "outputs": [],
   "source": [
    "# 1434124 too high\n",
    "# 1426285 too low"
   ]
  }
 ],
 "metadata": {
  "kernelspec": {
   "display_name": "base",
   "language": "python",
   "name": "python3"
  },
  "language_info": {
   "codemirror_mode": {
    "name": "ipython",
    "version": 3
   },
   "file_extension": ".py",
   "mimetype": "text/x-python",
   "name": "python",
   "nbconvert_exporter": "python",
   "pygments_lexer": "ipython3",
   "version": "3.11.5"
  }
 },
 "nbformat": 4,
 "nbformat_minor": 2
}
