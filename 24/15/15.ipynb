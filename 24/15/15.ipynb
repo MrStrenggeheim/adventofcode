{
 "cells": [
  {
   "cell_type": "code",
   "execution_count": 25,
   "metadata": {},
   "outputs": [],
   "source": [
    "import sys\n",
    "sys.path.append(\"..\")\n",
    "from utils.utils import Matrix, Vec\n",
    "import numpy as np\n",
    "from IPython.display import clear_output\n",
    "from time import sleep"
   ]
  },
  {
   "cell_type": "markdown",
   "metadata": {},
   "source": [
    "# Part 1"
   ]
  },
  {
   "cell_type": "code",
   "execution_count": 26,
   "metadata": {},
   "outputs": [],
   "source": [
    "instr_map = {\n",
    "    \">\" : Vec(1, 0),\n",
    "    \"v\" : Vec(0, 1),\n",
    "    \"<\" : Vec(-1, 0),\n",
    "    \"^\" : Vec(0, -1)\n",
    "}"
   ]
  },
  {
   "cell_type": "code",
   "execution_count": 27,
   "metadata": {},
   "outputs": [],
   "source": [
    "def print_field(field, rob):\n",
    "    m = np.copy(field).view(Matrix)\n",
    "    m[rob] = '@'\n",
    "    print(m)"
   ]
  },
  {
   "cell_type": "code",
   "execution_count": 28,
   "metadata": {},
   "outputs": [
    {
     "data": {
      "text/plain": [
       "1412971"
      ]
     },
     "execution_count": 28,
     "metadata": {},
     "output_type": "execute_result"
    }
   ],
   "source": [
    "with open(\"input.txt\") as file:\n",
    "    field, instructions = file.read().split(\"\\n\\n\")\n",
    "field = Matrix.from_str(field)\n",
    "instructions = instructions.replace(\"\\n\", \"\")\n",
    "rob = Vec(*list(zip(*np.where(field == '@')))[0])\n",
    "field[rob] = '.'\n",
    "\n",
    "for move in instructions:\n",
    "    dir = instr_map[move]\n",
    "    newPos = rob + dir\n",
    "    newVal = field[newPos]\n",
    "    if newVal == '.':\n",
    "        rob = newPos\n",
    "    elif newVal == '#':\n",
    "        continue\n",
    "    elif newVal == 'O':\n",
    "        cur = newPos\n",
    "        while field[cur] != '#':\n",
    "            if field[cur] == '.':\n",
    "                field[cur] = 'O'\n",
    "                field[newPos] = '.'\n",
    "                rob = newPos\n",
    "                break\n",
    "            cur += dir\n",
    "        continue\n",
    "    \n",
    "# print_field(field, rob)\n",
    "x, y = np.where(field == 'O')\n",
    "sum(x + 100 * y)"
   ]
  },
  {
   "cell_type": "markdown",
   "metadata": {},
   "source": [
    "# Part 2"
   ]
  },
  {
   "cell_type": "code",
   "execution_count": 29,
   "metadata": {},
   "outputs": [],
   "source": [
    "with open(\"test.txt\") as file:\n",
    "    field, instructions = file.read().split(\"\\n\\n\")\n",
    "field = field.replace(\"#\", \"##\")\n",
    "field = field.replace(\"O\", \"[]\")\n",
    "field = field.replace(\".\", \"..\")\n",
    "field = field.replace(\"@\", \"@.\")\n",
    "field = Matrix.from_str(field)\n",
    "instructions = instructions.replace(\"\\n\", \"\")\n",
    "\n",
    "shape = Vec(*field.shape)\n",
    "rob = Vec(*list(zip(*np.where(field == '@')))[0])\n",
    "boxes = [Vec(*box) for box in list(zip(*np.where(field == '[')))]\n",
    "walls = [Vec(*box) for box in list(zip(*np.where(field == '#')))]"
   ]
  },
  {
   "cell_type": "code",
   "execution_count": 30,
   "metadata": {},
   "outputs": [],
   "source": [
    "def print_field2(rob, boxes, walls, shape, symbol='@'):\n",
    "    m = Matrix(np.full((shape.x, shape.y), '.'))\n",
    "    # m = np.pad(m, ((2, 2), (1, 1)), 'constant', constant_values='#').view(Matrix)\n",
    "    for wall in walls:\n",
    "        m[wall] = '#'\n",
    "    for box in boxes:\n",
    "        m[box] = '['\n",
    "        m[box + Vec(1,0)] = ']'\n",
    "    m[rob] = symbol\n",
    "    return str(m)"
   ]
  },
  {
   "cell_type": "code",
   "execution_count": 31,
   "metadata": {},
   "outputs": [],
   "source": [
    "# pivot boxes on left edge\n",
    "right = Vec(1, 0)\n",
    "left = Vec(-1, 0)\n",
    "up = Vec(0, -1)\n",
    "down = Vec(0, 1)\n",
    "vertical_moves = [up, down]\n",
    "    \n",
    "def check(pos, dir):\n",
    "    newBoxes = []\n",
    "    if pos + dir in walls or pos + dir + right in walls:\n",
    "        return False, newBoxes\n",
    "    if pos + dir in boxes:\n",
    "        return True, [pos+dir]\n",
    "    if pos + dir + right in boxes:\n",
    "        newBoxes.append(pos+dir+right)\n",
    "    if pos + dir + left in boxes:\n",
    "        newBoxes.append(pos+dir+left)\n",
    "    return True, newBoxes\n",
    "        \n",
    "def move_box_vert(pos, dir):\n",
    "    to_check = [pos]\n",
    "    to_move = []\n",
    "    while to_check:\n",
    "        nextBox = to_check.pop()\n",
    "        to_move.append(boxes[boxes.index(nextBox)])\n",
    "        can_move, newBoxes = check(nextBox, dir)\n",
    "        if not can_move:\n",
    "            return False\n",
    "        to_check.extend(newBoxes)\n",
    "        to_move.extend(newBoxes)\n",
    "    [box.update(dir) for box in to_move]\n",
    "    return True\n",
    "    \n",
    "        \n",
    "def move_box_hor(pos, dir):\n",
    "    to_move = []\n",
    "    cur = pos\n",
    "    while cur not in walls:\n",
    "        if cur in boxes:\n",
    "            to_move.append(boxes[boxes.index(cur)])\n",
    "            cur += dir*2\n",
    "        else: # free space -> update all boxes\n",
    "            [box.update(dir) for box in to_move]\n",
    "            return True\n",
    "    return False\n",
    "\n",
    "def move_box(pos, dir):\n",
    "    if dir in vertical_moves:\n",
    "        return move_box_vert(pos, dir)\n",
    "    else:\n",
    "        return move_box_hor(pos, dir)"
   ]
  },
  {
   "cell_type": "code",
   "execution_count": 32,
   "metadata": {},
   "outputs": [
    {
     "name": "stdout",
     "output_type": "stream",
     "text": [
      "####################\n",
      "##[]..[]....[]..[]##\n",
      "##[]..........[]..##\n",
      "##<.[][]....[]..[]##\n",
      "##...[]...[]..[]..##\n",
      "##..##....[]......##\n",
      "##..[]........[]..##\n",
      "##.....[]..[].[][]##\n",
      "##........[]......##\n",
      "####################\n"
     ]
    },
    {
     "ename": "KeyboardInterrupt",
     "evalue": "",
     "output_type": "error",
     "traceback": [
      "\u001b[1;31m---------------------------------------------------------------------------\u001b[0m",
      "\u001b[1;31mKeyboardInterrupt\u001b[0m                         Traceback (most recent call last)",
      "Cell \u001b[1;32mIn[32], line 19\u001b[0m\n\u001b[0;32m     17\u001b[0m     clear_output(wait\u001b[38;5;241m=\u001b[39m\u001b[38;5;28;01mTrue\u001b[39;00m)\n\u001b[0;32m     18\u001b[0m     \u001b[38;5;28mprint\u001b[39m(print_field2(rob, boxes, walls, shape, symbol\u001b[38;5;241m=\u001b[39mmove))\n\u001b[1;32m---> 19\u001b[0m     sleep(\u001b[38;5;241m.2\u001b[39m)\n\u001b[0;32m     21\u001b[0m \u001b[38;5;28mprint\u001b[39m(print_field2(rob, boxes, walls, shape, symbol\u001b[38;5;241m=\u001b[39mmove))\n\u001b[0;32m     22\u001b[0m x, y \u001b[38;5;241m=\u001b[39m np\u001b[38;5;241m.\u001b[39mwhere(field \u001b[38;5;241m==\u001b[39m \u001b[38;5;124m'\u001b[39m\u001b[38;5;124m[\u001b[39m\u001b[38;5;124m'\u001b[39m)\n",
      "\u001b[1;31mKeyboardInterrupt\u001b[0m: "
     ]
    }
   ],
   "source": [
    "# dh = display(print_field2(rob, boxes, shape), display_id=True, \n",
    "for move in instructions:\n",
    "    dir = instr_map[move]\n",
    "    newPos = rob + dir\n",
    "    can_move = False\n",
    "    if newPos in boxes:\n",
    "        can_move = move_box(newPos, dir)\n",
    "    elif newPos+left in boxes:\n",
    "        can_move = move_box(newPos+left, dir)\n",
    "    elif newPos not in walls:\n",
    "        can_move = True\n",
    "    if can_move:\n",
    "        rob = newPos\n",
    "    # x = input()\n",
    "    # if x == 'x':\n",
    "    #     break\n",
    "    clear_output(wait=True)\n",
    "    print(print_field2(rob, boxes, walls, shape, symbol=move))\n",
    "    sleep(.2)\n",
    "\n",
    "print(print_field2(rob, boxes, walls, shape, symbol=move))\n",
    "x, y = np.where(field == '[')\n",
    "sum(x + 100 * y)"
   ]
  },
  {
   "cell_type": "code",
   "execution_count": 35,
   "metadata": {},
   "outputs": [],
   "source": [
    "# 1434124 too high"
   ]
  }
 ],
 "metadata": {
  "kernelspec": {
   "display_name": "base",
   "language": "python",
   "name": "python3"
  },
  "language_info": {
   "codemirror_mode": {
    "name": "ipython",
    "version": 3
   },
   "file_extension": ".py",
   "mimetype": "text/x-python",
   "name": "python",
   "nbconvert_exporter": "python",
   "pygments_lexer": "ipython3",
   "version": "3.11.5"
  }
 },
 "nbformat": 4,
 "nbformat_minor": 2
}
