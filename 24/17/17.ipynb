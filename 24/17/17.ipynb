{
 "cells": [
  {
   "cell_type": "code",
   "execution_count": 136,
   "metadata": {},
   "outputs": [],
   "source": [
    "import re\n",
    "from tqdm import tqdm\n",
    "with open(\"test.txt\") as file:\n",
    "    regs, instructions = file.read().split(\"\\n\\n\")\n",
    "instructions_str = instructions.lstrip(\"Program: \")\n",
    "instructions = list(map(int, instructions_str.split(',')))"
   ]
  },
  {
   "cell_type": "code",
   "execution_count": 137,
   "metadata": {},
   "outputs": [],
   "source": [
    "A, B, C = map(int, re.compile(r\": (\\d+)\").findall(regs))\n",
    "I = 0\n",
    "OUT = []\n",
    "\n",
    "def get_comb(op):\n",
    "    comb_dict = {\n",
    "        4: A,\n",
    "        5: B, \n",
    "        6: C\n",
    "    }\n",
    "    if op <= 3:\n",
    "        return op\n",
    "    if op <= 6:\n",
    "        return comb_dict[op]\n",
    "    else:\n",
    "        raise ValueError\n",
    "\n",
    "def adv(op):\n",
    "    global A\n",
    "    A = A // 2**get_comb(op)\n",
    "def bdv(op):\n",
    "    global B\n",
    "    B = A // 2**get_comb(op)\n",
    "def cdv(op):\n",
    "    global C\n",
    "    C = A // 2**get_comb(op)\n",
    "\n",
    "def bxl(op):\n",
    "    global B\n",
    "    B = B ^ op\n",
    "\n",
    "def bst(op):\n",
    "    global B\n",
    "    B = get_comb(op) % 8\n",
    "\n",
    "def jnz(op):\n",
    "    global I\n",
    "    if A != 0:\n",
    "        I = op-2\n",
    "\n",
    "def bxc(op):\n",
    "    global B\n",
    "    B = B ^ C\n",
    "\n",
    "def out(op):\n",
    "    global OUT\n",
    "    OUT.append(str(get_comb(op) % 8))\n",
    "\n",
    "fun_map = {\n",
    "    0: adv,\n",
    "    1: bxl,\n",
    "    2: bst,\n",
    "    3: jnz,\n",
    "    4: bxc,\n",
    "    5: out,\n",
    "    6: bdv,\n",
    "    7: cdv\n",
    "}\n"
   ]
  },
  {
   "cell_type": "code",
   "execution_count": 138,
   "metadata": {},
   "outputs": [],
   "source": [
    "def run():\n",
    "    global I\n",
    "    while I < len(instructions)-1:\n",
    "        instr, op = instructions[I:I+2]\n",
    "        fun_map[instr](op)\n",
    "        I += 2\n",
    "    return \",\".join(OUT)"
   ]
  },
  {
   "cell_type": "code",
   "execution_count": 139,
   "metadata": {},
   "outputs": [
    {
     "data": {
      "text/plain": [
       "'4,6,3,5,6,3,5,2,1,0'"
      ]
     },
     "execution_count": 139,
     "metadata": {},
     "output_type": "execute_result"
    }
   ],
   "source": [
    "run()"
   ]
  },
  {
   "cell_type": "code",
   "execution_count": 140,
   "metadata": {},
   "outputs": [
    {
     "data": {
      "text/plain": [
       "'0,1,5,4,3,0'"
      ]
     },
     "execution_count": 140,
     "metadata": {},
     "output_type": "execute_result"
    }
   ],
   "source": [
    "instructions_str"
   ]
  },
  {
   "cell_type": "code",
   "execution_count": 145,
   "metadata": {},
   "outputs": [
    {
     "name": "stderr",
     "output_type": "stream",
     "text": [
      "100%|██████████| 3000/3000 [00:00<00:00, 53766.01it/s]\n"
     ]
    }
   ],
   "source": [
    "\n",
    "for i in tqdm(range(0, 3000)):\n",
    "    global A\n",
    "    A = i\n",
    "    _, B, C = map(int, re.compile(r\": (\\d+)\").findall(regs))\n",
    "    I = 0\n",
    "    OUT = []\n",
    "    output = run()\n",
    "    # print(instructions_str, output)\n",
    "    if output == instructions_str:\n",
    "        print(A)\n",
    "        break"
   ]
  }
 ],
 "metadata": {
  "kernelspec": {
   "display_name": "base",
   "language": "python",
   "name": "python3"
  },
  "language_info": {
   "codemirror_mode": {
    "name": "ipython",
    "version": 3
   },
   "file_extension": ".py",
   "mimetype": "text/x-python",
   "name": "python",
   "nbconvert_exporter": "python",
   "pygments_lexer": "ipython3",
   "version": "3.12.4"
  }
 },
 "nbformat": 4,
 "nbformat_minor": 2
}
