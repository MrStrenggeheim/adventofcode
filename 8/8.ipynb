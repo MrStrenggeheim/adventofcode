{
 "cells": [
  {
   "cell_type": "markdown",
   "metadata": {},
   "source": [
    "# Advent of Code 2023 - Day 8: **Haunted Wasteland** "
   ]
  },
  {
   "cell_type": "code",
   "execution_count": 9,
   "metadata": {},
   "outputs": [],
   "source": [
    "import re\n",
    "import math\n",
    "def lcm(num_list):\n",
    "    lcm = num_list[0]\n",
    "    for i in num_list[1:]:\n",
    "        lcm = lcm * i // math.gcd(lcm, i)\n",
    "    return lcm"
   ]
  },
  {
   "cell_type": "code",
   "execution_count": 10,
   "metadata": {},
   "outputs": [],
   "source": [
    "class Position:\n",
    "    def __init__(self, value, left, right):\n",
    "        self.value = value\n",
    "        self.left = left\n",
    "        self.right = right\n",
    "        \n",
    "    def move(self, direction):\n",
    "        if direction == 'L':\n",
    "            return self.left\n",
    "        elif direction == 'R':\n",
    "            return self.right\n",
    "        \n",
    "    def is_goal(self):\n",
    "        return self.value == 'ZZZ'\n",
    "    \n",
    "    def __str__(self) -> str:\n",
    "        return str(self.value) + \" = \" + str(self.left) + \" \" + str(self.right)"
   ]
  },
  {
   "cell_type": "code",
   "execution_count": 11,
   "metadata": {},
   "outputs": [],
   "source": [
    "input = \"input.txt\"\n",
    "with (open(input, 'r')) as f:\n",
    "    lines = f.read().splitlines()\n",
    "    \n",
    "instructions = lines[0]\n",
    "lines = lines[2:]"
   ]
  },
  {
   "cell_type": "code",
   "execution_count": 12,
   "metadata": {},
   "outputs": [
    {
     "data": {
      "text/plain": [
       "['FQA', 'JSA', 'GJA', 'PBA', 'AAA', 'NNA']"
      ]
     },
     "execution_count": 12,
     "metadata": {},
     "output_type": "execute_result"
    }
   ],
   "source": [
    "positions = [re.findall(r'\\w\\w\\w', line) for line in lines]\n",
    "\n",
    "dic = dict()\n",
    "\n",
    "starting_positions = []\n",
    "for position in positions:\n",
    "    dic[position[0]] =(position[1], position[2])\n",
    "    if re.findall(r'\\w\\wA', position[0]):\n",
    "        starting_positions.append(position[0])\n",
    "starting_positions"
   ]
  },
  {
   "cell_type": "code",
   "execution_count": 13,
   "metadata": {},
   "outputs": [
    {
     "name": "stdout",
     "output_type": "stream",
     "text": [
      "FQA 18727\n",
      "JSA 24253\n",
      "GJA 18113\n",
      "PBA 22411\n",
      "AAA 21797\n",
      "NNA 16271\n"
     ]
    }
   ],
   "source": [
    "step_list = []\n",
    "\n",
    "def find_steps(position):\n",
    "    steps = 0\n",
    "    while (not re.findall(r'\\w\\wZ', position)):\n",
    "        for c in instructions:\n",
    "            steps += 1\n",
    "            if c == 'L':\n",
    "                position = dic[position][0]\n",
    "            elif c == 'R':\n",
    "                position = dic[position][1]\n",
    "            if position == 'ZZZ':\n",
    "                break\n",
    "    return steps\n",
    "\n",
    "for pos in starting_positions:\n",
    "    steps = find_steps(pos)\n",
    "    print(pos, steps)\n",
    "    step_list.append(steps)"
   ]
  },
  {
   "cell_type": "code",
   "execution_count": 14,
   "metadata": {},
   "outputs": [
    {
     "data": {
      "text/plain": [
       "23977527174353"
      ]
     },
     "execution_count": 14,
     "metadata": {},
     "output_type": "execute_result"
    }
   ],
   "source": [
    "lcm(step_list)"
   ]
  }
 ],
 "metadata": {
  "kernelspec": {
   "display_name": "base",
   "language": "python",
   "name": "python3"
  },
  "language_info": {
   "codemirror_mode": {
    "name": "ipython",
    "version": 3
   },
   "file_extension": ".py",
   "mimetype": "text/x-python",
   "name": "python",
   "nbconvert_exporter": "python",
   "pygments_lexer": "ipython3",
   "version": "3.11.5"
  }
 },
 "nbformat": 4,
 "nbformat_minor": 2
}
