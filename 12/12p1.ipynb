{
 "cells": [
  {
   "cell_type": "markdown",
   "metadata": {},
   "source": [
    "# Advent of Code 2023 - Day 12: **Hot Springs** "
   ]
  },
  {
   "cell_type": "code",
   "execution_count": 6,
   "metadata": {},
   "outputs": [],
   "source": [
    "import re\n",
    "from itertools import combinations\n",
    "from functools import lru_cache"
   ]
  },
  {
   "cell_type": "code",
   "execution_count": 7,
   "metadata": {},
   "outputs": [],
   "source": [
    "input = 'input.txt'\n",
    "with open(input, 'r') as f:\n",
    "    data = f.read().splitlines()\n",
    "\n",
    "data = [line.split(' ') for line in data]\n",
    "data = [[line[0], tuple(map(int, line[1].split(',')))] for line in data]"
   ]
  },
  {
   "cell_type": "code",
   "execution_count": 9,
   "metadata": {},
   "outputs": [],
   "source": [
    "def test_line(s, d):\n",
    "    damaged_springs = re.finditer(r'#+', s)\n",
    "    \n",
    "    for i, ds in enumerate(damaged_springs):\n",
    "        a = ds.start()\n",
    "        b = ds.end()\n",
    "        if len(d) <= i or b - a != d[i]:\n",
    "            return False\n",
    "    return True"
   ]
  },
  {
   "cell_type": "code",
   "execution_count": 10,
   "metadata": {},
   "outputs": [
    {
     "name": "stdout",
     "output_type": "stream",
     "text": [
      "7460\n"
     ]
    }
   ],
   "source": [
    "def get_arrangemets(line):\n",
    "    s = list(line[0])\n",
    "    unknown_positions = [i for i, x in enumerate(s) if x == '?']\n",
    "    damaged_sum_cur = s.count('#')\n",
    "    d = line[1]\n",
    "    damage_sum_tar = sum(d)\n",
    "    \n",
    "    possible_arrangements = 0\n",
    "    all_arrangements = combinations(unknown_positions, damage_sum_tar-damaged_sum_cur)\n",
    "    for arr in all_arrangements:\n",
    "        test_s = s.copy()\n",
    "        for x in arr:\n",
    "            test_s[x] = '#'\n",
    "        test_s = ''.join(test_s)\n",
    "        if test_line(test_s, d):\n",
    "            possible_arrangements += 1\n",
    "            \n",
    "    return possible_arrangements\n",
    "\n",
    "total = 0\n",
    "for line in data:\n",
    "    total += get_arrangemets(line)\n",
    "print(total)   "
   ]
  }
 ],
 "metadata": {
  "kernelspec": {
   "display_name": "base",
   "language": "python",
   "name": "python3"
  },
  "language_info": {
   "codemirror_mode": {
    "name": "ipython",
    "version": 3
   },
   "file_extension": ".py",
   "mimetype": "text/x-python",
   "name": "python",
   "nbconvert_exporter": "python",
   "pygments_lexer": "ipython3",
   "version": "3.11.5"
  }
 },
 "nbformat": 4,
 "nbformat_minor": 2
}
