{
 "cells": [
  {
   "cell_type": "markdown",
   "metadata": {},
   "source": [
    "# Advent of Code 2023 - Day 12: **Hot Springs** "
   ]
  },
  {
   "cell_type": "code",
   "execution_count": 6,
   "metadata": {},
   "outputs": [],
   "source": [
    "import re\n",
    "from functools import cache"
   ]
  },
  {
   "cell_type": "code",
   "execution_count": 7,
   "metadata": {},
   "outputs": [],
   "source": [
    "# unfolding for part 2\n",
    "multiplier = 5 \n",
    "\n",
    "with open('input.txt') as f:\n",
    "    data = f.read().splitlines()\n",
    "    \n",
    "lines = [(f'{\"?\".join([condition] * multiplier)}',\n",
    "            tuple(map(int, damage.split(','))) * multiplier)\n",
    "            for condition, damage \n",
    "            in (line.strip().split() for line in data)]"
   ]
  },
  {
   "cell_type": "code",
   "execution_count": 8,
   "metadata": {},
   "outputs": [],
   "source": [
    "def getReDamaged(i):\n",
    "    return re.compile(r\"[\\#\\?]{%i}(\\.|\\?|$)\" % i)"
   ]
  },
  {
   "cell_type": "code",
   "execution_count": 9,
   "metadata": {},
   "outputs": [],
   "source": [
    "@cache\n",
    "def recurse(condition, damage):\n",
    "    if not damage:\n",
    "        if '#' in condition:\n",
    "            return 0\n",
    "        else:\n",
    "            return 1\n",
    "    if not condition:\n",
    "        return 0\n",
    "    \n",
    "    # skip .\n",
    "    working = re.compile(r'\\.+').match(condition)\n",
    "    if working:\n",
    "        return recurse(condition[working.end():], damage)\n",
    "    \n",
    "    arrangements = 0\n",
    "    # assume working\n",
    "    if condition[0] == '?':\n",
    "        arrangements += recurse(condition[1:], damage)\n",
    "        \n",
    "    # assume not working\n",
    "    next_dmg = damage[0]\n",
    "    possibly_damaged = getReDamaged(next_dmg).match(condition)\n",
    "    if possibly_damaged:\n",
    "        arrangements += recurse(condition[possibly_damaged.end():], damage[1:])\n",
    "    return arrangements\n",
    "    "
   ]
  },
  {
   "cell_type": "code",
   "execution_count": 10,
   "metadata": {},
   "outputs": [
    {
     "data": {
      "text/plain": [
       "6720660274964"
      ]
     },
     "execution_count": 10,
     "metadata": {},
     "output_type": "execute_result"
    }
   ],
   "source": [
    "sum(recurse(*line) for line in lines)"
   ]
  }
 ],
 "metadata": {
  "kernelspec": {
   "display_name": "base",
   "language": "python",
   "name": "python3"
  },
  "language_info": {
   "codemirror_mode": {
    "name": "ipython",
    "version": 3
   },
   "file_extension": ".py",
   "mimetype": "text/x-python",
   "name": "python",
   "nbconvert_exporter": "python",
   "pygments_lexer": "ipython3",
   "version": "3.11.5"
  }
 },
 "nbformat": 4,
 "nbformat_minor": 2
}
