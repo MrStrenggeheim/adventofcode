{
 "cells": [
  {
   "cell_type": "markdown",
   "metadata": {},
   "source": [
    "# Advent of Code 2023 - Day 10: **Pipe Maze**"
   ]
  },
  {
   "cell_type": "markdown",
   "metadata": {},
   "source": [
    "### Preparation"
   ]
  },
  {
   "cell_type": "code",
   "execution_count": 262,
   "metadata": {},
   "outputs": [],
   "source": [
    "with open('input.txt', 'r') as f:\n",
    "    data = f.read().split('\\n\\n')\n",
    "\n",
    "workflows = data[0].splitlines()\n",
    "parts = data[1].splitlines()"
   ]
  },
  {
   "cell_type": "code",
   "execution_count": 263,
   "metadata": {},
   "outputs": [],
   "source": [
    "from typing import Any\n",
    "\n",
    "op_map = {\n",
    "    '=' : lambda a, b: a == b,\n",
    "    '>' : lambda a, b: a > b,\n",
    "    '<' : lambda a, b: a < b,\n",
    "}\n",
    "\n",
    "class Condition:\n",
    "    def __init__(self, condition):\n",
    "        cond = condition.split(':')\n",
    "        if len(cond) == 1:\n",
    "            self.attr = None\n",
    "            self.fun = None\n",
    "            self.ret = cond[0]\n",
    "        else:\n",
    "            cond, ret = cond\n",
    "            self.attr = cond[0]\n",
    "            self.fun = lambda a : op_map[cond[1]](a, int(cond[2:]))\n",
    "            self.ret = ret\n",
    "    \n",
    "    def __call__(self, part):\n",
    "        if self.attr:\n",
    "            if self.fun(part[self.attr]):\n",
    "                return self.ret\n",
    "        else:\n",
    "            return self.ret\n",
    "        \n",
    "    def __str__(self):\n",
    "        return f'{self.attr} {self.fun}  -> {self.ret}'\n",
    "    def __repr__(self):\n",
    "        return f'{self.attr} {self.fun} -> {self.ret}'\n",
    "    \n",
    "class Workflow:\n",
    "    def __init__(self, conditions):\n",
    "        self.conditions = [Condition(condition) for condition in conditions]\n",
    "        \n",
    "    def __call__(self, part):\n",
    "        for condition in self.conditions:\n",
    "            if ret := condition(part):\n",
    "                return ret\n",
    "            \n",
    "    def __str__(self):\n",
    "        return str(self.conditions)\n",
    "    def __repr__(self):\n",
    "        return str(self.conditions)"
   ]
  },
  {
   "cell_type": "code",
   "execution_count": 264,
   "metadata": {},
   "outputs": [],
   "source": [
    "def parse_workflow(workflow):\n",
    "    workflow = workflow.split(\"{\")\n",
    "    workflow = [workflow[0], workflow[1][:-1].split(',')]\n",
    "    workflow[1] = Workflow(workflow[1])\n",
    "    return workflow\n",
    "\n",
    "workflows = {i[0]:i[1] for i in [parse_workflow(i) for i in workflows]}\n",
    "parts = [\n",
    "    {key : int(value) for (key, value) in [i.split('=') for i in part[1:-1].split(',')] }\n",
    "    for part in parts\n",
    "]"
   ]
  },
  {
   "cell_type": "code",
   "execution_count": 265,
   "metadata": {},
   "outputs": [],
   "source": [
    "accepted = []\n",
    "for part in parts:\n",
    "    wf_name = 'in'\n",
    "    while wf_name != 'A' and wf_name != 'R':\n",
    "        workflow = workflows[wf_name]\n",
    "        wf_name = workflow(part)\n",
    "    if wf_name == 'A':\n",
    "        accepted.append(part)"
   ]
  },
  {
   "cell_type": "code",
   "execution_count": 266,
   "metadata": {},
   "outputs": [
    {
     "data": {
      "text/plain": [
       "406934"
      ]
     },
     "execution_count": 266,
     "metadata": {},
     "output_type": "execute_result"
    }
   ],
   "source": [
    "def sum_parts(parts):\n",
    "    return sum([sum(part.values()) for part in parts])\n",
    "\n",
    "sum_parts(accepted)"
   ]
  }
 ],
 "metadata": {
  "kernelspec": {
   "display_name": "base",
   "language": "python",
   "name": "python3"
  },
  "language_info": {
   "codemirror_mode": {
    "name": "ipython",
    "version": 3
   },
   "file_extension": ".py",
   "mimetype": "text/x-python",
   "name": "python",
   "nbconvert_exporter": "python",
   "pygments_lexer": "ipython3",
   "version": "3.11.5"
  }
 },
 "nbformat": 4,
 "nbformat_minor": 2
}
