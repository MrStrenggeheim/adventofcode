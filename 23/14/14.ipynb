{
 "cells": [
  {
   "cell_type": "markdown",
   "metadata": {},
   "source": [
    "# Advent of Code 2023 - Day 14: **Parabolic Reflector Dish**"
   ]
  },
  {
   "cell_type": "code",
   "execution_count": 1,
   "metadata": {},
   "outputs": [],
   "source": [
    "import numpy as np\n",
    "\n",
    "with open('input.txt', 'r') as f:\n",
    "    data = f.read().splitlines()"
   ]
  },
  {
   "cell_type": "code",
   "execution_count": 2,
   "metadata": {},
   "outputs": [],
   "source": [
    "def get_weight(matrix):\n",
    "    return np.sum([np.sum(line == 'O')*(len(matrix)-l) for l, line in enumerate(matrix)])\n",
    "\n",
    "def sort_line(array, reverse=False):\n",
    "    start = len(array)-1 if reverse else 0\n",
    "    end = -1 if reverse else len(array)\n",
    "    step = -1 if reverse else 1\n",
    "    \n",
    "    di = 0       \n",
    "    for i in range(start, end, step):\n",
    "        c = array[i]\n",
    "        if c == '.':\n",
    "            di += step\n",
    "        elif c == '#':\n",
    "            di = 0\n",
    "        elif c == 'O':\n",
    "            array[i] = '.'\n",
    "            array[i-di] = 'O'\n",
    "      \n",
    "def sort_matrix(matrix, reverse=False):\n",
    "    for i in range(len(matrix)):\n",
    "        sort_line(matrix[i], reverse)"
   ]
  },
  {
   "cell_type": "markdown",
   "metadata": {},
   "source": [
    "### Part 1"
   ]
  },
  {
   "cell_type": "code",
   "execution_count": 3,
   "metadata": {},
   "outputs": [
    {
     "data": {
      "text/plain": [
       "113424"
      ]
     },
     "execution_count": 3,
     "metadata": {},
     "output_type": "execute_result"
    }
   ],
   "source": [
    "matrix = np.array([list(line) for line in data])\n",
    "\n",
    "matrix = matrix.T\n",
    "sort_matrix(matrix, reverse=False)\n",
    "matrix = matrix.T\n",
    "\n",
    "get_weight(matrix)"
   ]
  },
  {
   "cell_type": "markdown",
   "metadata": {},
   "source": [
    "### Part 2"
   ]
  },
  {
   "cell_type": "code",
   "execution_count": 4,
   "metadata": {},
   "outputs": [
    {
     "data": {
      "text/plain": [
       "96003"
      ]
     },
     "execution_count": 4,
     "metadata": {},
     "output_type": "execute_result"
    }
   ],
   "source": [
    "matrix = np.array([list(line) for line in data])\n",
    "\n",
    "cycles = 1_000_000_000\n",
    "\n",
    "seen = {}\n",
    "weights = []\n",
    "\n",
    "for i in range(cycles):\n",
    "    matrix = matrix.T\n",
    "    sort_matrix(matrix, reverse=False)\n",
    "    matrix = matrix.T\n",
    "    sort_matrix(matrix, reverse=False)\n",
    "    matrix = matrix.T\n",
    "    sort_matrix(matrix, reverse=True)\n",
    "    matrix = matrix.T\n",
    "    sort_matrix(matrix, reverse=True)\n",
    "    \n",
    "    weights.append(get_weight(matrix))\n",
    "    state = \"\".join(matrix.flatten())\n",
    "    \n",
    "    if state in seen:\n",
    "        break\n",
    "    else:\n",
    "        seen[state] = i\n",
    "        \n",
    "# loop path\n",
    "length = i - seen[state] \n",
    "start = seen[state]\n",
    "\n",
    "searched = start + (cycles-start) % length - 1\n",
    "weights[searched]\n"
   ]
  }
 ],
 "metadata": {
  "kernelspec": {
   "display_name": "base",
   "language": "python",
   "name": "python3"
  },
  "language_info": {
   "codemirror_mode": {
    "name": "ipython",
    "version": 3
   },
   "file_extension": ".py",
   "mimetype": "text/x-python",
   "name": "python",
   "nbconvert_exporter": "python",
   "pygments_lexer": "ipython3",
   "version": "3.11.5"
  }
 },
 "nbformat": 4,
 "nbformat_minor": 2
}
