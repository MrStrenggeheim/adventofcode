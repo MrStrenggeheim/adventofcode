{
 "cells": [
  {
   "cell_type": "markdown",
   "metadata": {},
   "source": [
    "# Advent of Code 2023 - Day 10: **Pipe Maze**"
   ]
  },
  {
   "cell_type": "markdown",
   "metadata": {},
   "source": [
    "### Part 1"
   ]
  },
  {
   "cell_type": "code",
   "execution_count": 190,
   "metadata": {},
   "outputs": [],
   "source": [
    "from functools import reduce\n",
    "import re"
   ]
  },
  {
   "cell_type": "code",
   "execution_count": 191,
   "metadata": {},
   "outputs": [],
   "source": [
    "with open('input.txt', 'r') as f:\n",
    "    data = f.read().strip().split(',')"
   ]
  },
  {
   "cell_type": "code",
   "execution_count": 192,
   "metadata": {},
   "outputs": [
    {
     "data": {
      "text/plain": [
       "509167"
      ]
     },
     "execution_count": 192,
     "metadata": {},
     "output_type": "execute_result"
    }
   ],
   "source": [
    "def hash_line(line):\n",
    "    return reduce(lambda h, c: ((h + ord(c)) * 17) % 256, line, 0)\n",
    "\n",
    "sum(hash_line(line) for line in data)"
   ]
  },
  {
   "cell_type": "markdown",
   "metadata": {},
   "source": [
    "### Part 2\n"
   ]
  },
  {
   "cell_type": "code",
   "execution_count": 193,
   "metadata": {},
   "outputs": [],
   "source": [
    "def get_op(line):\n",
    "    label, length = re.split(r'=|-', line)\n",
    "    length = int(length) if length else 0\n",
    "    return label, length\n",
    "\n",
    "def box_index(box, label):\n",
    "    for i, (l, _) in enumerate(box):\n",
    "        if l == label:\n",
    "            return i\n",
    "    return -1"
   ]
  },
  {
   "cell_type": "code",
   "execution_count": 194,
   "metadata": {},
   "outputs": [],
   "source": [
    "ops = [get_op(line) for line in data]\n",
    "boxes = [[] for _ in range(256)]\n",
    "\n",
    "for label, length in ops:\n",
    "    box = boxes[hash_line(label)]\n",
    "    idx = box_index(box, label)\n",
    "    if length == 0:\n",
    "        if idx != -1:\n",
    "            del box[idx]\n",
    "    else:\n",
    "        if idx == -1:\n",
    "            box.append((label, length))\n",
    "        else:\n",
    "            box[idx] = (label, length)"
   ]
  },
  {
   "cell_type": "code",
   "execution_count": 195,
   "metadata": {},
   "outputs": [
    {
     "data": {
      "text/plain": [
       "259333"
      ]
     },
     "execution_count": 195,
     "metadata": {},
     "output_type": "execute_result"
    }
   ],
   "source": [
    "total = 0\n",
    "for box_idx, box in enumerate(boxes, 1):\n",
    "    for lense_idx, lense in enumerate(box, 1):\n",
    "        score = box_idx * lense_idx * lense[1]\n",
    "        total += score\n",
    "total"
   ]
  }
 ],
 "metadata": {
  "kernelspec": {
   "display_name": "base",
   "language": "python",
   "name": "python3"
  },
  "language_info": {
   "codemirror_mode": {
    "name": "ipython",
    "version": 3
   },
   "file_extension": ".py",
   "mimetype": "text/x-python",
   "name": "python",
   "nbconvert_exporter": "python",
   "pygments_lexer": "ipython3",
   "version": "3.11.5"
  }
 },
 "nbformat": 4,
 "nbformat_minor": 2
}
