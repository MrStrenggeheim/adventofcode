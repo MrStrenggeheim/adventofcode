{
 "cells": [
  {
   "cell_type": "markdown",
   "metadata": {},
   "source": [
    "# Advent of Code 2023 - Day 11: **Cosmic Expansion**"
   ]
  },
  {
   "cell_type": "markdown",
   "metadata": {},
   "source": [
    "### Preparation"
   ]
  },
  {
   "cell_type": "code",
   "execution_count": 19,
   "metadata": {},
   "outputs": [],
   "source": [
    "import numpy as np"
   ]
  },
  {
   "cell_type": "code",
   "execution_count": 20,
   "metadata": {},
   "outputs": [],
   "source": [
    "class Pos:\n",
    "    def __init__(self, x, y):\n",
    "        self.x = x\n",
    "        self.y = y\n",
    "        \n",
    "    # needed for Part 2\n",
    "    def dist_with_gaps(self, other, gapsX, gapsY, factor=1):\n",
    "        num_gaps_x = 0\n",
    "        num_gaps_y = 0\n",
    "        for gapX in gapsX:\n",
    "            num_gaps_x += ((self.x < gapX < other.x) or (self.x > gapX > other.x))\n",
    "        for gapY in gapsY:\n",
    "            num_gaps_y += ((self.y < gapY < other.y) or (self.y > gapY > other.y))\n",
    "        return abs(self.x - other.x) + abs(self.y - other.y) + factor * (num_gaps_x + num_gaps_y)"
   ]
  },
  {
   "cell_type": "markdown",
   "metadata": {},
   "source": [
    "### Read input"
   ]
  },
  {
   "cell_type": "code",
   "execution_count": 21,
   "metadata": {},
   "outputs": [],
   "source": [
    "input = 'input.txt'\n",
    "with open(input, 'r') as f:\n",
    "    data = f.read().splitlines()\n",
    "    data = np.array([list(row) for row in data])"
   ]
  },
  {
   "cell_type": "markdown",
   "metadata": {},
   "source": [
    "### Find empty spaces"
   ]
  },
  {
   "cell_type": "code",
   "execution_count": 22,
   "metadata": {},
   "outputs": [],
   "source": [
    "gaps_x = [] # cols\n",
    "gaps_y = [] # rows\n",
    "\n",
    "for i, row in enumerate(data):\n",
    "    if '#' not in row:\n",
    "        gaps_y.append(i)\n",
    "data = data.T\n",
    "for i, col in enumerate(data):\n",
    "    if '#' not in col:\n",
    "        gaps_x.append(i)\n",
    "data = data.T"
   ]
  },
  {
   "cell_type": "markdown",
   "metadata": {},
   "source": [
    "### Get all galaxiy positions"
   ]
  },
  {
   "cell_type": "code",
   "execution_count": 23,
   "metadata": {},
   "outputs": [],
   "source": [
    "positions = []\n",
    "for y, row in enumerate(data):\n",
    "    for x, col in enumerate(row):\n",
    "        if col == '#':\n",
    "            positions.append(Pos(x, y))"
   ]
  },
  {
   "cell_type": "markdown",
   "metadata": {},
   "source": [
    "### Iterate pairs and calculate distance"
   ]
  },
  {
   "cell_type": "code",
   "execution_count": 24,
   "metadata": {},
   "outputs": [
    {
     "data": {
      "text/plain": [
       "904633799472"
      ]
     },
     "execution_count": 24,
     "metadata": {},
     "output_type": "execute_result"
    }
   ],
   "source": [
    "factor = 1_000_000-1 # factor for padding, 1 for part 1\n",
    "sum = 0\n",
    "while len(positions) > 1:\n",
    "    pos1 = positions.pop(0)\n",
    "    for pos2 in positions:\n",
    "        if pos1 == pos2:\n",
    "            continue\n",
    "        dist = pos1.dist_with_gaps(pos2, gaps_x, gaps_y, factor)\n",
    "        sum += dist\n",
    "sum"
   ]
  }
 ],
 "metadata": {
  "kernelspec": {
   "display_name": "base",
   "language": "python",
   "name": "python3"
  },
  "language_info": {
   "codemirror_mode": {
    "name": "ipython",
    "version": 3
   },
   "file_extension": ".py",
   "mimetype": "text/x-python",
   "name": "python",
   "nbconvert_exporter": "python",
   "pygments_lexer": "ipython3",
   "version": "3.11.5"
  }
 },
 "nbformat": 4,
 "nbformat_minor": 2
}
