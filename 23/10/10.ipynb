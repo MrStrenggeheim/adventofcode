{
 "cells": [
  {
   "cell_type": "markdown",
   "metadata": {},
   "source": [
    "# Advent of Code 2023 - Day 10: **Pipe Maze**"
   ]
  },
  {
   "cell_type": "markdown",
   "metadata": {},
   "source": [
    "### Preparation"
   ]
  },
  {
   "cell_type": "code",
   "execution_count": 1,
   "metadata": {},
   "outputs": [],
   "source": [
    "class Pos:\n",
    "    def __init__(self, x, y):\n",
    "        self.x = x\n",
    "        self.y = y\n",
    "        \n",
    "    def __repr__(self) -> str:\n",
    "        return f'P({self.x}, {self.y})'\n",
    "    \n",
    "    def __str__(self) -> str:\n",
    "        return f'P({self.x}, {self.y})'\n",
    "    \n",
    "    def __add__(self, other):\n",
    "        return Pos(self.x + other.x, self.y + other.y)\n",
    "    \n",
    "    def __eq__(self, other):\n",
    "        return self.x == other.x and self.y == other.y\n",
    "    \n",
    "    def __gt__(self, other):\n",
    "        return self.x > other.x if self.x != other.x else self.y > other.y\n",
    "    \n",
    "    def __mul__(self, other):\n",
    "        return Pos(self.x * other, self.y * other)\n",
    "    \n",
    "    def __neg__(self):\n",
    "        return Pos(-self.x, -self.y)\n",
    "    \n",
    "    def __hash__(self) -> int:\n",
    "        return hash((self.x, self.y))"
   ]
  },
  {
   "cell_type": "code",
   "execution_count": 2,
   "metadata": {},
   "outputs": [],
   "source": [
    "adjacent_positions = [Pos(0,1), Pos(1,0), Pos(0,-1), Pos(-1,0)]\n",
    "adjacent_map = {\n",
    "    '-': [Pos(-1, 0), Pos(1, 0)],\n",
    "    '|': [Pos(0, -1), Pos(0, 1)],\n",
    "    'L': [Pos(0, -1), Pos(1, 0)],\n",
    "    'J': [Pos(0, -1), Pos(-1, 0)],\n",
    "    '7': [Pos(0, 1), Pos(-1, 0)],\n",
    "    'F': [Pos(0, 1), Pos(1, 0)],\n",
    "    '.': []\n",
    "}    "
   ]
  },
  {
   "cell_type": "code",
   "execution_count": 3,
   "metadata": {},
   "outputs": [
    {
     "data": {
      "text/plain": [
       "P(110, 120)"
      ]
     },
     "execution_count": 3,
     "metadata": {},
     "output_type": "execute_result"
    }
   ],
   "source": [
    "input = 'input.txt'\n",
    "with open(input, 'r') as f:\n",
    "    data = f.read().splitlines()\n",
    "    \n",
    "width = len(data[0])\n",
    "height = len(data)\n",
    "\n",
    "for i in range(len(data)):\n",
    "    if 'S' in data[i]:\n",
    "        pos_s = Pos(data[i].index('S'), i)\n",
    "    data[i] = list(data[i])\n",
    "    \n",
    "pos_s"
   ]
  },
  {
   "cell_type": "markdown",
   "metadata": {},
   "source": [
    "### Task 1"
   ]
  },
  {
   "cell_type": "code",
   "execution_count": 4,
   "metadata": {},
   "outputs": [
    {
     "data": {
      "text/plain": [
       "([P(0, 1), P(0, -1)], '|')"
      ]
     },
     "execution_count": 4,
     "metadata": {},
     "output_type": "execute_result"
    }
   ],
   "source": [
    "# replace S\n",
    "connected_to = []\n",
    "for pos in adjacent_positions:\n",
    "    for neighbor in adjacent_map[data[pos_s.y + pos.y][pos_s.x + pos.x]]:\n",
    "        if neighbor == -pos:\n",
    "            connected_to.append(pos)\n",
    "\n",
    "for k, v in adjacent_map.items():\n",
    "    if sorted(v) == sorted(connected_to):\n",
    "        data[pos_s.y][pos_s.x] = k\n",
    "\n",
    "connected_to, data[pos_s.y][pos_s.x]"
   ]
  },
  {
   "cell_type": "code",
   "execution_count": 5,
   "metadata": {},
   "outputs": [
    {
     "name": "stdout",
     "output_type": "stream",
     "text": [
      "The furthest point is 6870 away.\n"
     ]
    }
   ],
   "source": [
    "last_pos = adjacent_map[data[pos_s.y][pos_s.x]]\n",
    "cur_pos = [pos_s, pos_s]\n",
    "\n",
    "path1 = []\n",
    "path2 = []\n",
    "\n",
    "def step(pos, prev):\n",
    "    for adj in adjacent_map[data[pos.y][pos.x]]:\n",
    "        if adj != prev:\n",
    "            return pos + adj, -adj\n",
    "\n",
    "def multistep(c_pos, l_pos):\n",
    "    cpos = []\n",
    "    lpos = []\n",
    "    for i in range(len(c_pos)):\n",
    "        cpos.append(step(c_pos[i], l_pos[i])[0])\n",
    "        lpos.append(step(c_pos[i], l_pos[i])[1])\n",
    "    return cpos, lpos\n",
    "\n",
    "steps=0\n",
    "while cur_pos[0] != cur_pos[1] and (cur_pos != (cur_pos[1], last_pos[0])) or steps == 0:\n",
    "    cur_pos, last_pos = multistep(cur_pos, last_pos)\n",
    "    path1.append(cur_pos[0])\n",
    "    path2.append(cur_pos[1])\n",
    "    steps += 1  \n",
    "    \n",
    "path = [pos_s] + path1 + path2[::-1]\n",
    "\n",
    "print(\"The furthest point is\", steps, \"away.\")"
   ]
  },
  {
   "cell_type": "markdown",
   "metadata": {},
   "source": [
    "### Task 2"
   ]
  },
  {
   "cell_type": "code",
   "execution_count": 6,
   "metadata": {},
   "outputs": [
    {
     "name": "stdout",
     "output_type": "stream",
     "text": [
      "There are 287 points in the area.\n"
     ]
    }
   ],
   "source": [
    "intersection2d = [[0 for _ in range(width)] for _ in range(height)]\n",
    "points_in_area = []\n",
    "path_set = set(path) # speed up like lightning\n",
    "\n",
    "for y in range(height):\n",
    "    intersections = 0\n",
    "    count = {\n",
    "        'L': 0,\n",
    "        'J': 0,\n",
    "        '7': 0,\n",
    "        'F': 0\n",
    "    }\n",
    "    for x in range(width):\n",
    "        intersection2d[y][x] = intersections\n",
    "        pos = Pos(x, y)\n",
    "        \n",
    "        if pos in path_set:\n",
    "            c = data[y][x]\n",
    "            if c == '|':\n",
    "                intersections += 1\n",
    "            elif c in ['L', 'J', '7', 'F']:\n",
    "                count[c] += 1\n",
    "                if (count['L'] == count['7'] == 1) or (count['J'] == count['F'] == 1):\n",
    "                    intersections += 1\n",
    "                    count = {'L': 0, 'J': 0, '7': 0, 'F': 0}\n",
    "                if (count['L'] == count['J'] == 1) or (count['7'] == count['F'] == 1):\n",
    "                    count = {'L': 0, 'J': 0, '7': 0, 'F': 0}\n",
    "            intersection2d[y][x] = 0\n",
    "\n",
    "        if intersection2d[y][x] % 2 == 1:\n",
    "            points_in_area.append(pos)\n",
    "\n",
    "print(f\"There are {len(points_in_area)} points in the area.\")"
   ]
  }
 ],
 "metadata": {
  "kernelspec": {
   "display_name": "base",
   "language": "python",
   "name": "python3"
  },
  "language_info": {
   "codemirror_mode": {
    "name": "ipython",
    "version": 3
   },
   "file_extension": ".py",
   "mimetype": "text/x-python",
   "name": "python",
   "nbconvert_exporter": "python",
   "pygments_lexer": "ipython3",
   "version": "3.11.5"
  }
 },
 "nbformat": 4,
 "nbformat_minor": 2
}
