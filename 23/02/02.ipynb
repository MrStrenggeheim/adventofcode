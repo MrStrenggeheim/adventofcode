{
 "cells": [
  {
   "cell_type": "markdown",
   "metadata": {},
   "source": [
    "# Advent of Code 2023 - Day 2: **Cube Conundrum**"
   ]
  },
  {
   "cell_type": "code",
   "execution_count": 1,
   "metadata": {},
   "outputs": [],
   "source": [
    "import numpy as np"
   ]
  },
  {
   "cell_type": "code",
   "execution_count": 2,
   "metadata": {},
   "outputs": [],
   "source": [
    "colors = ['red', 'green', 'blue']\n",
    "max_cubes = [12, 13, 14]"
   ]
  },
  {
   "cell_type": "code",
   "execution_count": 14,
   "metadata": {},
   "outputs": [],
   "source": [
    "input_file = 'input.txt'\n",
    "with open(input_file, 'r') as f:\n",
    "    lines = f.readlines()"
   ]
  },
  {
   "cell_type": "code",
   "execution_count": 8,
   "metadata": {},
   "outputs": [],
   "source": [
    "# get min number of each color for each game\n",
    "min_cubes = []\n",
    "\n",
    "for id, line in enumerate(lines):\n",
    "    line = line.strip().split(': ')[1].split('; ')\n",
    "    line = [[y.split(' ') for y in x.split(', ')] for x in line]\n",
    "    dic = {}\n",
    "    for move in line:\n",
    "        for event in move:\n",
    "            n = int(event[0])\n",
    "            color = event[1]\n",
    "            if color not in dic:\n",
    "                dic[color] = n\n",
    "            else:\n",
    "                dic[color] = max(dic[color], n)\n",
    "    min_cubes.append(dic)"
   ]
  },
  {
   "cell_type": "code",
   "execution_count": 12,
   "metadata": {},
   "outputs": [
    {
     "data": {
      "text/plain": [
       "1853"
      ]
     },
     "execution_count": 12,
     "metadata": {},
     "output_type": "execute_result"
    }
   ],
   "source": [
    "# Task 1\n",
    "possible_games_list = [1]*len(min_cubes)\n",
    "\n",
    "for id, games in enumerate(min_cubes):\n",
    "    for c, color in enumerate(colors):\n",
    "        if min_cubes[id][color] > max_cubes[c]:\n",
    "            possible_games_list[id] = 0\n",
    "\n",
    "possible_idx = [i+1 for i, x in enumerate(possible_games_list) if x == 1]\n",
    "sum(possible_idx)"
   ]
  },
  {
   "cell_type": "code",
   "execution_count": 13,
   "metadata": {},
   "outputs": [
    {
     "data": {
      "text/plain": [
       "72706"
      ]
     },
     "execution_count": 13,
     "metadata": {},
     "output_type": "execute_result"
    }
   ],
   "source": [
    "# Task 2 \n",
    "sum_min_cubes = sum([(np.multiply.reduce(np.array(list(x.values())))) for x in min_cubes])\n",
    "sum_min_cubes"
   ]
  }
 ],
 "metadata": {
  "kernelspec": {
   "display_name": "base",
   "language": "python",
   "name": "python3"
  },
  "language_info": {
   "codemirror_mode": {
    "name": "ipython",
    "version": 3
   },
   "file_extension": ".py",
   "mimetype": "text/x-python",
   "name": "python",
   "nbconvert_exporter": "python",
   "pygments_lexer": "ipython3",
   "version": "3.11.5"
  }
 },
 "nbformat": 4,
 "nbformat_minor": 2
}
