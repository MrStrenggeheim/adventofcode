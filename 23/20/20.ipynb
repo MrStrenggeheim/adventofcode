{
 "cells": [
  {
   "cell_type": "markdown",
   "metadata": {},
   "source": [
    "# Advent of Code 2023 - Day 10: **Pipe Maze**"
   ]
  },
  {
   "cell_type": "markdown",
   "metadata": {},
   "source": [
    "### Preparation"
   ]
  },
  {
   "cell_type": "code",
   "execution_count": 134,
   "metadata": {},
   "outputs": [],
   "source": [
    "import collections \n",
    "from math import gcd\n",
    "from functools import reduce\n",
    "with open('input.txt', 'r') as f:\n",
    "    data = f.read().splitlines()"
   ]
  },
  {
   "cell_type": "code",
   "execution_count": 135,
   "metadata": {},
   "outputs": [],
   "source": [
    "low = 0\n",
    "high = 1\n",
    "\n",
    "class FlipFlop:\n",
    "    def __init__(self, destinations):\n",
    "        self.state = False\n",
    "        self.destinations = destinations\n",
    "        \n",
    "    def __call__(self, signal, src):\n",
    "        if signal == high:\n",
    "            return []\n",
    "        self.state = not self.state\n",
    "        return [(dst, int(self.state)) for dst in self.destinations] # when was off -> return high\n",
    "    \n",
    "    def __repr__(self) -> str:\n",
    "        return f'FF({self.state}, {self.destinations})'\n",
    "        \n",
    "class Conjunction:\n",
    "    def __init__(self, destinations, sources):\n",
    "        self.memory = {src : low for src in sources}\n",
    "        self.destinations = destinations\n",
    "        \n",
    "    def __call__(self, signal, src):\n",
    "        self.memory[src] = signal\n",
    "        if low in self.memory.values(): # not all high\n",
    "            return [(dst, high) for dst in self.destinations]\n",
    "        else:\n",
    "            return [(dst, low) for dst in self.destinations]\n",
    "        \n",
    "    def __repr__(self) -> str:\n",
    "        return f'Conj({self.memory}, {self.destinations})'\n",
    "        "
   ]
  },
  {
   "cell_type": "code",
   "execution_count": 136,
   "metadata": {},
   "outputs": [],
   "source": [
    "modules = dict()\n",
    "conjunctions = dict()\n",
    "dest_to_src = collections.defaultdict(list) # to save src for conjunctions\n",
    "broadcaster = None\n",
    "\n",
    "rx_premod = \"\"\n",
    "\n",
    "for line in data:\n",
    "    line = line.split(' -> ')\n",
    "    name = line[0][1:] if line[0] != 'broadcaster' else 'broadcaster'\n",
    "    mod_type = line[0][0]\n",
    "    destinations = line[1].split(', ')\n",
    "    \n",
    "    if name == 'broadcaster':\n",
    "        broadcaster = destinations\n",
    "    elif mod_type == '%':\n",
    "        modules[name] = FlipFlop(destinations)\n",
    "    elif mod_type == '&':\n",
    "        conjunctions[name] = destinations\n",
    "    \n",
    "    for d in destinations:\n",
    "        dest_to_src[d].append(name)\n",
    "        \n",
    "    \n",
    "for name, destinations in conjunctions.items():\n",
    "    modules[name] = Conjunction(destinations, dest_to_src[name])\n",
    "    if 'rx' in destinations:\n",
    "        rx_premod = name\n",
    "    \n",
    "# modules, conjunctions, dest_to_src, broadcaster, rx_premod"
   ]
  },
  {
   "cell_type": "code",
   "execution_count": 137,
   "metadata": {},
   "outputs": [
    {
     "data": {
      "text/plain": [
       "([16195, 42243], 684125385)"
      ]
     },
     "execution_count": 137,
     "metadata": {},
     "output_type": "execute_result"
    }
   ],
   "source": [
    "def push_button():\n",
    "    queue = collections.deque()\n",
    "    start = [('broadcaster', low, module) for module in broadcaster] # src, signal, dst\n",
    "    queue.extend(start)\n",
    "\n",
    "    counter = [1, 0]\n",
    "\n",
    "    while queue:\n",
    "        src, signal, dst = queue.popleft()\n",
    "        counter[signal] += 1\n",
    "        # print(src, f'-{signal}->', dst)\n",
    "        \n",
    "        if dst not in modules:\n",
    "            continue\n",
    "        \n",
    "        for new_dst, new_signal in modules[dst](signal, src):\n",
    "            queue.append((dst, new_signal, new_dst))\n",
    "            \n",
    "    return counter\n",
    "        \n",
    "        \n",
    "counter = [0,0]\n",
    "for i in range(1000):\n",
    "    ret = push_button()   \n",
    "    counter[0] += ret[0]\n",
    "    counter[1] += ret[1]\n",
    "    \n",
    "counter, counter[0] * counter[1]"
   ]
  },
  {
   "cell_type": "markdown",
   "metadata": {},
   "source": [
    "### Part 2"
   ]
  },
  {
   "cell_type": "code",
   "execution_count": 138,
   "metadata": {},
   "outputs": [],
   "source": [
    "lengths = {}\n",
    "visited = {\n",
    "    name: 0 for name, module in modules.items() if rx_premod in module.destinations\n",
    "}\n",
    "\n",
    "count = 0\n",
    "while True:\n",
    "    count += 1\n",
    "    queue = collections.deque(\n",
    "        [('broadcaster', low, module) for module in broadcaster] # src, signal, dst\n",
    "    )\n",
    "    \n",
    "    events = []\n",
    "\n",
    "    # one button press\n",
    "    while queue:\n",
    "        src, signal, dst = queue.popleft()\n",
    "        \n",
    "        if dst not in modules:\n",
    "            continue\n",
    "        \n",
    "        if dst == rx_premod and signal == high:\n",
    "            visited[src] = 1\n",
    "            \n",
    "            if src not in lengths:\n",
    "                lengths[src] = count\n",
    "                \n",
    "            if all(visited.values()):\n",
    "                ret = reduce(lambda product, length: product * length // gcd(product, length), lengths.values(), 1)\n",
    "                print(ret, lengths)\n",
    "                break\n",
    "        \n",
    "        for new_dst, new_signal in modules[dst](signal, src):\n",
    "            queue.append((dst, new_signal, new_dst))      \n",
    "    else:\n",
    "        continue\n",
    "    break"
   ]
  },
  {
   "cell_type": "markdown",
   "metadata": {},
   "source": [
    "answers:\n",
    "\n",
    "    5347346877, too low\n",
    "    \n",
    "    22803499706691, too low\n",
    "    225872806380073 -> yes"
   ]
  }
 ],
 "metadata": {
  "kernelspec": {
   "display_name": "base",
   "language": "python",
   "name": "python3"
  },
  "language_info": {
   "codemirror_mode": {
    "name": "ipython",
    "version": 3
   },
   "file_extension": ".py",
   "mimetype": "text/x-python",
   "name": "python",
   "nbconvert_exporter": "python",
   "pygments_lexer": "ipython3",
   "version": "3.11.5"
  }
 },
 "nbformat": 4,
 "nbformat_minor": 2
}
