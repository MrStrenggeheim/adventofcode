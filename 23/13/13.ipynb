{
 "cells": [
  {
   "cell_type": "markdown",
   "metadata": {},
   "source": [
    "# Advent of Code 2023 - Day 13: Point of Incidence "
   ]
  },
  {
   "cell_type": "markdown",
   "metadata": {},
   "source": [
    "### Preparation"
   ]
  },
  {
   "cell_type": "code",
   "execution_count": 1,
   "metadata": {},
   "outputs": [],
   "source": [
    "with open('input.txt') as f:\n",
    "    data = f.read().split('\\n\\n')\n",
    "patterns = [line.split('\\n') for line in data]"
   ]
  },
  {
   "cell_type": "markdown",
   "metadata": {},
   "source": [
    "### Part 1"
   ]
  },
  {
   "cell_type": "code",
   "execution_count": 2,
   "metadata": {},
   "outputs": [],
   "source": [
    "# method to test if given col index is morror\n",
    "def test_column(pattern, col):\n",
    "    min_len = min(col, len(pattern[0]) - (col))\n",
    "    start = col - min_len   # inclusive\n",
    "    end = col + min_len     # exclusive\n",
    "    for row in pattern:\n",
    "        if row[start:col] != row[col:end][::-1]:\n",
    "            return False\n",
    "    return True\n",
    "\n",
    "# method to test if given row index is mirror\n",
    "def test_row(pattern, row):\n",
    "    min_len = min(row, len(pattern) - (row))\n",
    "    start = row - min_len   # inclusive\n",
    "    end = row + min_len     # exclusive\n",
    "    return pattern[start:row] == pattern[row:end][::-1]\n",
    "\n",
    "# iterator over possible vertical mirrors\n",
    "def find_vertical_mirror(pattern):\n",
    "    for col in range(1, len(pattern[0])):\n",
    "        if test_column(pattern, col):\n",
    "            yield col\n",
    "        \n",
    "# iterator over possible horizontal mirrors\n",
    "def find_horizontal_mirror(pattern):\n",
    "    for row in range(1, len(pattern)):\n",
    "        if test_row(pattern, row):\n",
    "            yield row\n",
    "\n",
    "# iterator over possible total mirrors\n",
    "def get_total(pattern):\n",
    "    hor = find_horizontal_mirror(pattern)\n",
    "    ver = find_vertical_mirror(pattern)\n",
    "    while True:\n",
    "        h = next(hor, 0)\n",
    "        if h != 0:\n",
    "            yield 100 * h\n",
    "        else:\n",
    "            yield next(ver, 0)"
   ]
  },
  {
   "cell_type": "code",
   "execution_count": 3,
   "metadata": {},
   "outputs": [
    {
     "data": {
      "text/plain": [
       "29130"
      ]
     },
     "execution_count": 3,
     "metadata": {},
     "output_type": "execute_result"
    }
   ],
   "source": [
    "sum([next(get_total(pattern)) for pattern in patterns])"
   ]
  },
  {
   "cell_type": "markdown",
   "metadata": {},
   "source": [
    "### Part 2"
   ]
  },
  {
   "cell_type": "code",
   "execution_count": 4,
   "metadata": {},
   "outputs": [],
   "source": [
    "switch = {\n",
    "    '#': '.',\n",
    "    '.': '#'\n",
    "}\n",
    "\n",
    "def unsmudge_pattern(pattern):\n",
    "    score_before = next(get_total(pattern))\n",
    "    for y in range(len(pattern)):\n",
    "        for x in range(len(pattern[0])):\n",
    "            pattern[y] = pattern[y][:x] + switch[pattern[y][x]] + pattern[y][x+1:]\n",
    "            total_gen = get_total(pattern)\n",
    "            total_cur = next(total_gen)\n",
    "            while total_cur == score_before:\n",
    "                total_cur = next(total_gen)\n",
    "            if total_cur != 0:\n",
    "                return total_cur\n",
    "            pattern[y] = pattern[y][:x] + switch[pattern[y][x]] + pattern[y][x+1:]"
   ]
  },
  {
   "cell_type": "code",
   "execution_count": 5,
   "metadata": {},
   "outputs": [
    {
     "data": {
      "text/plain": [
       "33438"
      ]
     },
     "execution_count": 5,
     "metadata": {},
     "output_type": "execute_result"
    }
   ],
   "source": [
    "sum([unsmudge_pattern(pattern) for pattern in patterns])"
   ]
  }
 ],
 "metadata": {
  "kernelspec": {
   "display_name": "base",
   "language": "python",
   "name": "python3"
  },
  "language_info": {
   "codemirror_mode": {
    "name": "ipython",
    "version": 3
   },
   "file_extension": ".py",
   "mimetype": "text/x-python",
   "name": "python",
   "nbconvert_exporter": "python",
   "pygments_lexer": "ipython3",
   "version": "3.10.4"
  }
 },
 "nbformat": 4,
 "nbformat_minor": 2
}
