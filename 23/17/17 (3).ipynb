{
 "cells": [
  {
   "cell_type": "markdown",
   "metadata": {},
   "source": [
    "# Advent of Code 2023 - Day 10: **Pipe Maze**"
   ]
  },
  {
   "cell_type": "markdown",
   "metadata": {},
   "source": [
    "### Too weak today. Getting solution from https://github.com/ricbit/advent-of-code/blob/main/2023/adv17-r.py"
   ]
  },
  {
   "cell_type": "code",
   "execution_count": 9,
   "metadata": {},
   "outputs": [],
   "source": [
    "import numpy as np\n",
    "import heapq as hq\n",
    "from queue import PriorityQueue\n",
    "from dataclasses import dataclass\n",
    "import time"
   ]
  },
  {
   "cell_type": "code",
   "execution_count": 10,
   "metadata": {},
   "outputs": [],
   "source": [
    "import sys\n",
    "import itertools\n",
    "\n",
    "def shoelace(points):\n",
    "  area = 0\n",
    "  pairs = zip(points, itertools.islice(itertools.cycle(points), 1, None))\n",
    "  for (y1, x1), (y2, x2) in pairs:\n",
    "    area += x1 * y2 - x2 * y1\n",
    "  return area / 2\n",
    "\n",
    "DIRECTIONS = {\"R\": (0, 1), \"L\": (0, -1), \"U\": (-1, 0), \"D\": (1, 0)}\n",
    "\n",
    "def line_blocks():\n",
    "  return [line.strip().split(\"\\n\") for line in sys.stdin.read().split(\"\\n\\n\")]\n",
    "\n",
    "class Table:\n",
    "  def __init__(self, lines):\n",
    "    self.table = lines\n",
    "    self.w = len(self.table[0])\n",
    "    self.h = len(self.table)\n",
    "\n",
    "  @staticmethod\n",
    "  def read():\n",
    "    return Table([list(line.strip()) for line in sys.stdin])\n",
    "\n",
    "  def iter_all(self, conditional=lambda x: True):\n",
    "    for j, i in itertools.product(range(self.h), range(self.w)):\n",
    "      if conditional(self.table[j][i]):\n",
    "        yield j, i\n",
    "\n",
    "  def valid(self, j, i):\n",
    "    return 0 <= j < self.h and 0 <= i < self.w\n",
    "\n",
    "  def cvalid(self, complex_pos):\n",
    "    return 0 <= complex_pos.imag < self.h and 0 <= complex_pos.real < self.w\n",
    "\n",
    "  def iter_neigh8(self, j, i, conditional=lambda x: True):\n",
    "    for dj, di in itertools.product(range(-1, 2), repeat=2):\n",
    "      if dj == 0 and di == 0:\n",
    "        continue\n",
    "      jj, ii = j + dj, i + di\n",
    "      if self.valid(jj, ii) and conditional(self.table[jj][ii]):\n",
    "        yield jj, ii\n",
    "\n",
    "  def iter_neigh4(self, j, i, conditional=lambda x: True):\n",
    "    for dj, di in [(0,1), (1,0), (0,-1), (-1,0)]:\n",
    "      jj, ii = j + dj, i + di\n",
    "      if self.valid(jj, ii) and conditional(self.table[jj][ii]):\n",
    "        yield jj, ii\n",
    "\n",
    "  def __getitem__(self, j):\n",
    "    return self.table[j]\n",
    "\n",
    "  def get(self, complex_position):\n",
    "    return self.table[int(complex_position.imag)][int(complex_position.real)]\n",
    "\n",
    "  def transpose(self):\n",
    "    return Table([\"\".join(t) for t in zip(*self.table)])\n",
    "  \n",
    "  def clock90(self):\n",
    "    return Table([list(reversed(col)) for col in zip(*self.table)])\n",
    "\n",
    "  def copy(self):\n",
    "    return Table([line.copy() for line in self.table])"
   ]
  },
  {
   "cell_type": "code",
   "execution_count": 11,
   "metadata": {},
   "outputs": [],
   "source": [
    "with open('input.txt', 'r') as f:\n",
    "    lines = [[int(c) for c in list(line)] for line in f.read().splitlines()]"
   ]
  },
  {
   "cell_type": "code",
   "execution_count": 12,
   "metadata": {},
   "outputs": [
    {
     "name": "stdout",
     "output_type": "stream",
     "text": [
      "1008\n",
      "1210\n"
     ]
    }
   ],
   "source": [
    "import sys\n",
    "import heapq\n",
    "from collections import defaultdict\n",
    "\n",
    "def heuristic(m, y, x, score):\n",
    "  return m.h - y + m.w - x\n",
    "\n",
    "def search(m, minsize, maxsize):\n",
    "  visited = defaultdict(lambda: 1e6)\n",
    "  vnext = [(heuristic(m, 0, 0, 0), 0, (0, 0), 2)]\n",
    "  while vnext:\n",
    "    old_heuristic, score, (y, x), direction = heapq.heappop(vnext)\n",
    "    if old_heuristic > visited[((y, x), direction)]:\n",
    "      continue\n",
    "    if (y, x) == (m.h - 1, m.w - 1):\n",
    "      return score\n",
    "    for j, i in m.iter_neigh4(y, x):\n",
    "      dj, di = j - y, i - x\n",
    "      if (dj == 0 and direction == 0) or (di == 0 and direction == 1):\n",
    "        continue\n",
    "      dscore = 0\n",
    "      for size in range(1, maxsize + 1):\n",
    "        nj, ni = y + size * dj, x + size * di\n",
    "        if not m.valid(nj, ni):\n",
    "          break\n",
    "        dscore += m[nj][ni]\n",
    "        pure_score = score + dscore\n",
    "        new_heuristic = heuristic(m, nj, ni, pure_score) + pure_score\n",
    "        vec = ((nj, ni), 0 if dj == 0 else 1)\n",
    "        if size >= minsize and new_heuristic < visited[vec]:\n",
    "          heapq.heappush(vnext, (new_heuristic, pure_score) + vec)\n",
    "          visited[vec] = new_heuristic\n",
    "\n",
    "m = Table(lines)\n",
    "print(search(m, 1, 3))\n",
    "print(search(m, 4, 10))"
   ]
  }
 ],
 "metadata": {
  "kernelspec": {
   "display_name": "base",
   "language": "python",
   "name": "python3"
  },
  "language_info": {
   "codemirror_mode": {
    "name": "ipython",
    "version": 3
   },
   "file_extension": ".py",
   "mimetype": "text/x-python",
   "name": "python",
   "nbconvert_exporter": "python",
   "pygments_lexer": "ipython3",
   "version": "3.11.5"
  }
 },
 "nbformat": 4,
 "nbformat_minor": 2
}
