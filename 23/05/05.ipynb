{
 "cells": [
  {
   "cell_type": "markdown",
   "metadata": {},
   "source": [
    "# Advent of Code 2023 - Day 5: **If You Give A Seed A Fertilizer** "
   ]
  },
  {
   "cell_type": "code",
   "execution_count": 88,
   "metadata": {},
   "outputs": [],
   "source": [
    "input = \"input.txt\"\n",
    "with open(input, \"r\") as f:\n",
    "    lines = f.readlines()\n",
    "    \n",
    "lines = [line.strip() for line in lines]\n",
    "lines.append(\"\")"
   ]
  },
  {
   "cell_type": "code",
   "execution_count": 89,
   "metadata": {},
   "outputs": [],
   "source": [
    "seeds = lines[0].split(\" \")[1:]\n",
    "seeds = [int(seed) for seed in seeds]\n",
    "\n",
    "# task 2\n",
    "starts = seeds[::2]\n",
    "ranges = seeds[1::2]\n",
    "seeds = list(zip(starts, ranges))"
   ]
  },
  {
   "cell_type": "code",
   "execution_count": 90,
   "metadata": {},
   "outputs": [],
   "source": [
    "def get_mapping_fun(map_lists):\n",
    "    def mapping_fun(x):\n",
    "        for map_list in map_lists:\n",
    "            map_range = range(map_list[1], map_list[1]+map_list[2])\n",
    "            map_dist = map_list[0] - map_list[1]\n",
    "            if x in map_range:\n",
    "                return x + map_dist\n",
    "        return x\n",
    "    return mapping_fun\n",
    "\n",
    "def get_inverse_mapping_fun(map_lists):\n",
    "    def inverse_mapping_fun(x):\n",
    "        for map_list in map_lists:\n",
    "            map_range = range(map_list[0], map_list[0]+map_list[2])\n",
    "            map_dist = map_list[1] - map_list[0]\n",
    "            if x in map_range:\n",
    "                return x + map_dist\n",
    "        return x\n",
    "    return inverse_mapping_fun"
   ]
  },
  {
   "cell_type": "code",
   "execution_count": 91,
   "metadata": {},
   "outputs": [
    {
     "name": "stdout",
     "output_type": "stream",
     "text": [
      "seed-to-soil map:\n",
      "soil-to-fertilizer map:\n",
      "fertilizer-to-water map:\n",
      "water-to-light map:\n",
      "light-to-temperature map:\n",
      "temperature-to-humidity map:\n",
      "humidity-to-location map:\n"
     ]
    }
   ],
   "source": [
    "maps = []\n",
    "maps_inv = []\n",
    "\n",
    "mapping_parts = []\n",
    "\n",
    "all_mapping_parts = []\n",
    "\n",
    "skip = True\n",
    "map = 0\n",
    "for line in lines[2:]:\n",
    "    if skip:\n",
    "        print(line)\n",
    "        skip = False\n",
    "        continue\n",
    "    if line == \"\":\n",
    "        # print(mapping_parts)\n",
    "        maps.append(get_mapping_fun(mapping_parts))\n",
    "        maps_inv.append(get_inverse_mapping_fun(mapping_parts))\n",
    "        all_mapping_parts.append(mapping_parts)\n",
    "        mapping_parts = []\n",
    "        map += 1\n",
    "        skip = True\n",
    "        continue\n",
    "    line = line.split(\" \")\n",
    "    line = [int(x) for x in line]\n",
    "    mapping_parts.append(line)\n",
    "    "
   ]
  },
  {
   "cell_type": "code",
   "execution_count": 92,
   "metadata": {},
   "outputs": [],
   "source": [
    "# merge maps to one\n",
    "def merge_maps(maps):\n",
    "    def mapping_fun(x):\n",
    "        for map in maps:\n",
    "            x = map(x)\n",
    "        return x\n",
    "    return mapping_fun\n",
    "\n",
    "def merge_maps_inv(maps):\n",
    "    def mapping_fun(x):\n",
    "        for map in maps[::-1]:\n",
    "            x = map(x)\n",
    "        return x\n",
    "    return mapping_fun\n",
    "\n",
    "map = merge_maps(maps)\n",
    "map_inv = merge_maps_inv(maps_inv)"
   ]
  },
  {
   "cell_type": "code",
   "execution_count": 93,
   "metadata": {},
   "outputs": [
    {
     "data": {
      "text/plain": [
       "529830197"
      ]
     },
     "execution_count": 93,
     "metadata": {},
     "output_type": "execute_result"
    }
   ],
   "source": [
    "map_inv(0)"
   ]
  },
  {
   "cell_type": "code",
   "execution_count": 94,
   "metadata": {},
   "outputs": [],
   "source": [
    "def is_in_seeds(x, seeds):\n",
    "    for seed in seeds:\n",
    "        if x in range(seed[0], seed[0]+seed[1]):\n",
    "            return True\n",
    "    return False"
   ]
  },
  {
   "cell_type": "code",
   "execution_count": 95,
   "metadata": {},
   "outputs": [
    {
     "name": "stdout",
     "output_type": "stream",
     "text": [
      "100000000\n"
     ]
    },
    {
     "name": "stdout",
     "output_type": "stream",
     "text": [
      "100165128\n"
     ]
    }
   ],
   "source": [
    "run = True\n",
    "# guess seed\n",
    "i = 100000000\n",
    "while run:\n",
    "    if i % 1_000_000 == 0:\n",
    "        print(i)\n",
    "    seed = map_inv(i)\n",
    "    if is_in_seeds(seed, seeds):\n",
    "        print(i)\n",
    "        run = False\n",
    "    i += 1"
   ]
  },
  {
   "cell_type": "code",
   "execution_count": 96,
   "metadata": {},
   "outputs": [],
   "source": [
    "# min_loc = None\n",
    "\n",
    "# for seed in seeds:\n",
    "#     for i in range(seed[0], seed[0]+seed[1]):\n",
    "#         loc = map(i)\n",
    "#         if min_loc is None or loc < min_loc:\n",
    "#             min_loc = loc"
   ]
  }
 ],
 "metadata": {
  "kernelspec": {
   "display_name": "base",
   "language": "python",
   "name": "python3"
  },
  "language_info": {
   "codemirror_mode": {
    "name": "ipython",
    "version": 3
   },
   "file_extension": ".py",
   "mimetype": "text/x-python",
   "name": "python",
   "nbconvert_exporter": "python",
   "pygments_lexer": "ipython3",
   "version": "3.10.4"
  }
 },
 "nbformat": 4,
 "nbformat_minor": 2
}
