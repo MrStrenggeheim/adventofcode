{
 "cells": [
  {
   "cell_type": "markdown",
   "metadata": {},
   "source": [
    "# Advent of Code 2023 - Day 4: **Scratchcards** "
   ]
  },
  {
   "cell_type": "code",
   "execution_count": 1,
   "metadata": {},
   "outputs": [
    {
     "data": {
      "text/plain": [
       "(26443, 6284877)"
      ]
     },
     "execution_count": 1,
     "metadata": {},
     "output_type": "execute_result"
    }
   ],
   "source": [
    "input = 'input.txt'\n",
    "\n",
    "with open(input, 'r') as f:\n",
    "    lines = f.read().splitlines()\n",
    "\n",
    "lines = [\n",
    "    [\n",
    "        set([int(n) for n in part.split(' ') if len(n) > 0]) \n",
    "        for part in line.split(': ')[1].split(' | ')\n",
    "    ] \n",
    "    for line in lines\n",
    "]\n",
    "\n",
    "sum_points = 0\n",
    "num_cards = [1] * len(lines)\n",
    "\n",
    "for i, line in enumerate(lines):\n",
    "    winning = line[0].intersection(line[1])\n",
    "    if len(winning) > 0:\n",
    "        sum_points += 2**(len(winning)-1)\n",
    "    for w in range(len(winning)):\n",
    "        num_cards[i+w+1] += num_cards[i]\n",
    "\n",
    "sum_points, sum(num_cards)"
   ]
  }
 ],
 "metadata": {
  "kernelspec": {
   "display_name": "base",
   "language": "python",
   "name": "python3"
  },
  "language_info": {
   "codemirror_mode": {
    "name": "ipython",
    "version": 3
   },
   "file_extension": ".py",
   "mimetype": "text/x-python",
   "name": "python",
   "nbconvert_exporter": "python",
   "pygments_lexer": "ipython3",
   "version": "3.11.5"
  }
 },
 "nbformat": 4,
 "nbformat_minor": 2
}
