{
 "cells": [
  {
   "cell_type": "markdown",
   "metadata": {},
   "source": [
    "# Advent of Code 2023 - Day 22: **Sand Slabs** "
   ]
  },
  {
   "cell_type": "code",
   "execution_count": 581,
   "metadata": {},
   "outputs": [],
   "source": [
    "import collections\n",
    "import numpy as np\n",
    "\n",
    "with open('input.txt', 'r') as f:\n",
    "    data = f.read().splitlines()"
   ]
  },
  {
   "cell_type": "code",
   "execution_count": 582,
   "metadata": {},
   "outputs": [],
   "source": [
    "class Brick:\n",
    "    def __init__(self, idx, x1, y1, z1, x2, y2, z2):\n",
    "        self.x1 = min(x1, x2)\n",
    "        self.x2 = max(x1, x2)\n",
    "        self.y1 = min(y1, y2)\n",
    "        self.y2 = max(y1, y2)\n",
    "        self.z1 = min(z1, z2)\n",
    "        self.z2 = max(z1, z2)\n",
    "        self.idx = idx\n",
    "        \n",
    "    def __repr__(self):\n",
    "        return f'B{self.idx}({self.x1},{self.y1},{self.z1})-({self.x2},{self.y2},{self.z2})'\n",
    "    \n",
    "    def __lt__(self, other):\n",
    "        return self.z1 < other.z1\n",
    "    \n",
    "    def __eq__(self, other):\n",
    "        return self.idx == other.idx\n",
    "    \n",
    "    def horizontal_intersect(self, other):\n",
    "        return (self.x1 <= other.x2 and self.x2 >= other.x1 and\n",
    "                self.y1 <= other.y2 and self.y2 >= other.y1)\n",
    "        \n",
    "    def __hash__(self) -> int:\n",
    "        return hash(self.idx)"
   ]
  },
  {
   "cell_type": "code",
   "execution_count": 583,
   "metadata": {},
   "outputs": [],
   "source": [
    "bricks = {}\n",
    "z_map = collections.defaultdict(list) # only lower end of brick\n",
    "brickmap = {} # all bricks and all coordinates\n",
    "\n",
    "for i, line in enumerate(data):\n",
    "    t = list(map(lambda x : list(map(int, x.split(','))) , line.split('~')))\n",
    "    [[x1, y1, z1], [x2, y2, z2]] = t\n",
    "    b = Brick(i, x1, y1, z1, x2, y2, z2)\n",
    "    bricks[i] = b\n",
    "    z_map[z1].append(b)\n",
    "    for x in range(b.x1, b.x2+1):\n",
    "        for y in range(b.y1, b.y2+1):\n",
    "            for z in range(b.z1, b.z2+1):\n",
    "                brickmap[(x,y,z)] = b"
   ]
  },
  {
   "cell_type": "code",
   "execution_count": 584,
   "metadata": {},
   "outputs": [],
   "source": [
    "# test if brick is supported; provide own id to ignore\n",
    "def is_supported(b):\n",
    "    for x in range(b.x1, b.x2+1):\n",
    "        for y in range(b.y1, b.y2+1):\n",
    "            if (x, y, b.z1-1) in brickmap or b.z1 <= 1:\n",
    "                return True\n",
    "    return False\n",
    "\n",
    "def get_supporting_bricks(b):\n",
    "    supporting = set()\n",
    "    for x in range(b.x1, b.x2+1):\n",
    "        for y in range(b.y1, b.y2+1):\n",
    "            if (x,y,b.z1-1) in brickmap:\n",
    "                supporting.add(brickmap[(x,y,b.z1-1)])\n",
    "    return supporting"
   ]
  },
  {
   "cell_type": "code",
   "execution_count": 585,
   "metadata": {},
   "outputs": [],
   "source": [
    "support_by_map = collections.defaultdict(set)\n",
    "supports_map = {}\n",
    "\n",
    "# let fall down\n",
    "for height in sorted(z_map):\n",
    "    bricks_at_height = list(z_map[height])\n",
    "    for b in bricks_at_height:\n",
    "        floating = True\n",
    "        while floating:\n",
    "            if is_supported(b):\n",
    "                supporting_bricks = get_supporting_bricks(b)\n",
    "                support_by_map[b.idx] = supporting_bricks\n",
    "                for s in supporting_bricks:\n",
    "                    if s.idx not in supports_map:\n",
    "                        supports_map[s.idx] = set()\n",
    "                    supports_map[s.idx].add(b)\n",
    "                floating = False\n",
    "            else:\n",
    "                b.z1 -= 1\n",
    "                b.z2 -= 1\n",
    "                for x in range(b.x1, b.x2+1):\n",
    "                    for y in range(b.y1, b.y2+1):\n",
    "                        brickmap[(x,y,b.z1)] = b\n",
    "                        brickmap.pop((x,y,b.z2+1))\n",
    "                z_map[b.z1].append(b)\n",
    "                z_map[b.z1+1].remove(b)"
   ]
  },
  {
   "cell_type": "code",
   "execution_count": 586,
   "metadata": {},
   "outputs": [],
   "source": [
    "def is_desintegratable(b):\n",
    "    for parent in z_map[b.z2+1]:\n",
    "        if parent.horizontal_intersect(b):\n",
    "            if support_by_map[parent.idx] == {b}:\n",
    "                return False\n",
    "    return True"
   ]
  },
  {
   "cell_type": "code",
   "execution_count": 587,
   "metadata": {},
   "outputs": [
    {
     "data": {
      "text/plain": [
       "477"
      ]
     },
     "execution_count": 587,
     "metadata": {},
     "output_type": "execute_result"
    }
   ],
   "source": [
    "desintegratable = set()\n",
    "\n",
    "for b in bricks.values():\n",
    "    if is_desintegratable(b):\n",
    "        desintegratable.add(b)\n",
    "        \n",
    "len(desintegratable)"
   ]
  },
  {
   "cell_type": "code",
   "execution_count": 588,
   "metadata": {},
   "outputs": [],
   "source": [
    "def get_fall_count(b):\n",
    "    queue = collections.deque([b])\n",
    "    falling = set(queue)\n",
    "    \n",
    "    while queue:\n",
    "        current = queue.popleft()\n",
    "        if current.idx not in supports_map:\n",
    "            continue\n",
    "        for parent in supports_map[current.idx]:\n",
    "            if len(support_by_map[parent.idx] - falling) == 0:\n",
    "                queue.append(parent)\n",
    "                falling.add(parent)\n",
    "    return len(falling) - 1"
   ]
  },
  {
   "cell_type": "code",
   "execution_count": 589,
   "metadata": {},
   "outputs": [
    {
     "data": {
      "text/plain": [
       "61555"
      ]
     },
     "execution_count": 589,
     "metadata": {},
     "output_type": "execute_result"
    }
   ],
   "source": [
    "total = 0\n",
    "for height in z_map:\n",
    "    bricks_at_height = list(z_map[height])\n",
    "    for b in bricks_at_height:\n",
    "        if b not in desintegratable:\n",
    "            total += get_fall_count(b)\n",
    "                \n",
    "total"
   ]
  }
 ],
 "metadata": {
  "kernelspec": {
   "display_name": "base",
   "language": "python",
   "name": "python3"
  },
  "language_info": {
   "codemirror_mode": {
    "name": "ipython",
    "version": 3
   },
   "file_extension": ".py",
   "mimetype": "text/x-python",
   "name": "python",
   "nbconvert_exporter": "python",
   "pygments_lexer": "ipython3",
   "version": "3.11.5"
  }
 },
 "nbformat": 4,
 "nbformat_minor": 2
}
