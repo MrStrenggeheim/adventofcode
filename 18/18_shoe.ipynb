{
 "cells": [
  {
   "cell_type": "markdown",
   "metadata": {},
   "source": [
    "# Advent of Code 2023 - Day 10: **Pipe Maze**"
   ]
  },
  {
   "cell_type": "markdown",
   "metadata": {},
   "source": [
    "### Preparation"
   ]
  },
  {
   "cell_type": "code",
   "execution_count": 195,
   "metadata": {},
   "outputs": [],
   "source": [
    "import functools as ft\n",
    "with open('input.txt', 'r') as f:\n",
    "    data = [line.split(\" \") for line in f.read().splitlines()]"
   ]
  },
  {
   "cell_type": "code",
   "execution_count": 196,
   "metadata": {},
   "outputs": [],
   "source": [
    "class Edge:\n",
    "    def __init__(self, start, end):\n",
    "        self.start = start\n",
    "        self.end = end\n",
    "        \n",
    "    def __repr__(self):\n",
    "        return f\"E({self.start}, {self.end})\"\n",
    "        \n",
    "class Pos:\n",
    "    def __init__(self, x, y):\n",
    "        self.x = x\n",
    "        self.y = y\n",
    "        \n",
    "    def __add__(self, other):\n",
    "        return Pos(self.x + other.x, self.y + other.y)\n",
    "    \n",
    "    def __mul__(self, other):\n",
    "        return Pos(self.x * other, self.y * other)\n",
    "    \n",
    "    def __repr__(self):\n",
    "        return f\"P({self.x:>2}, {self.y:>2})\"\n",
    "    \n",
    "    def __eq__(self, other):\n",
    "        return self.x == other.x and self.y == other.y\n",
    "    \n",
    "    def __hash__(self) -> int:\n",
    "        return hash((self.x, self.y))"
   ]
  },
  {
   "cell_type": "code",
   "execution_count": 197,
   "metadata": {},
   "outputs": [],
   "source": [
    "def get_area(data):\n",
    "    edges = list()\n",
    "\n",
    "    perimeter = 0\n",
    "\n",
    "    min_x = 0\n",
    "    max_x = 0\n",
    "    min_y = 0\n",
    "    max_y = 0\n",
    "\n",
    "    cur = Pos(0, 0)\n",
    "    for line in data:\n",
    "        move, length = line[0], line[1]\n",
    "        new_pos = cur + move * length\n",
    "        \n",
    "        min_x = min(min_x, new_pos.x)\n",
    "        max_x = max(max_x, new_pos.x)\n",
    "        min_y = min(min_y, new_pos.y)\n",
    "        max_y = max(max_y, new_pos.y)\n",
    "        perimeter += length\n",
    "        \n",
    "        # if new_pos.y == cur.y:\n",
    "        edges.append(Edge(cur, new_pos))  \n",
    "        cur = new_pos\n",
    "        \n",
    "        area = ft.reduce(\n",
    "        lambda acc, edge: acc + (edge.end.x - edge.start.x) * abs(edge.start.y - max_y),\n",
    "        edges,\n",
    "        0\n",
    "    ) + perimeter // 2 + 1\n",
    "\n",
    "    return area"
   ]
  },
  {
   "cell_type": "markdown",
   "metadata": {},
   "source": [
    "### Task 1"
   ]
  },
  {
   "cell_type": "code",
   "execution_count": 198,
   "metadata": {},
   "outputs": [
    {
     "data": {
      "text/plain": [
       "40745"
      ]
     },
     "execution_count": 198,
     "metadata": {},
     "output_type": "execute_result"
    }
   ],
   "source": [
    "dir_map = {\n",
    "    'R' : Pos(1, 0),\n",
    "    'L' : Pos(-1, 0),\n",
    "    'U' : Pos(0, -1),\n",
    "    'D' : Pos(0, 1)\n",
    "}\n",
    "\n",
    "data1 = [(dir_map[line[0]], int(line[1])) for line in data]\n",
    "get_area(data1)"
   ]
  },
  {
   "cell_type": "markdown",
   "metadata": {},
   "source": [
    "### Task 2"
   ]
  },
  {
   "cell_type": "code",
   "execution_count": 199,
   "metadata": {},
   "outputs": [
    {
     "data": {
      "text/plain": [
       "90111113594927"
      ]
     },
     "execution_count": 199,
     "metadata": {},
     "output_type": "execute_result"
    }
   ],
   "source": [
    "dir_map = {\n",
    "    '0' : Pos(1, 0),\n",
    "    '1' : Pos(0, 1),\n",
    "    '2' : Pos(-1, 0),\n",
    "    '3' : Pos(0, -1)\n",
    "}\n",
    "\n",
    "data2 = [(dir_map[line[2][-2]], int(line[2][2:7], 16)) for line in data]\n",
    "get_area(data2)"
   ]
  }
 ],
 "metadata": {
  "kernelspec": {
   "display_name": "base",
   "language": "python",
   "name": "python3"
  },
  "language_info": {
   "codemirror_mode": {
    "name": "ipython",
    "version": 3
   },
   "file_extension": ".py",
   "mimetype": "text/x-python",
   "name": "python",
   "nbconvert_exporter": "python",
   "pygments_lexer": "ipython3",
   "version": "3.11.5"
  }
 },
 "nbformat": 4,
 "nbformat_minor": 2
}
