{
 "cells": [
  {
   "cell_type": "markdown",
   "metadata": {},
   "source": [
    "# Advent of Code 2023 - Day 10: **Pipe Maze**"
   ]
  },
  {
   "cell_type": "markdown",
   "metadata": {},
   "source": [
    "### Solved with ray-casting, only for part 1"
   ]
  },
  {
   "cell_type": "code",
   "execution_count": 44,
   "metadata": {},
   "outputs": [],
   "source": [
    "from collections import defaultdict\n",
    "import numpy as np\n",
    "with open('input.txt', 'r') as f:\n",
    "    data = [line.split(\" \") for line in f.read().splitlines()]"
   ]
  },
  {
   "cell_type": "code",
   "execution_count": 45,
   "metadata": {},
   "outputs": [],
   "source": [
    "class Edge:\n",
    "    def __init__(self, start, end):\n",
    "        self.start = start\n",
    "        self.end = end\n",
    "        \n",
    "    def __repr__(self):\n",
    "        return f\"E({self.start}, {self.end})\"\n",
    "        \n",
    "class Pos:\n",
    "    def __init__(self, x, y):\n",
    "        self.x = x\n",
    "        self.y = y\n",
    "        \n",
    "    def __add__(self, other):\n",
    "        return Pos(self.x + other.x, self.y + other.y)\n",
    "    \n",
    "    def __mul__(self, other):\n",
    "        return Pos(self.x * other, self.y * other)\n",
    "    \n",
    "    def __repr__(self):\n",
    "        return f\"P({self.x:>2}, {self.y:>2})\"\n",
    "    \n",
    "    def __eq__(self, other):\n",
    "        return self.x == other.x and self.y == other.y\n",
    "    \n",
    "    def __hash__(self) -> int:\n",
    "        return hash((self.x, self.y))"
   ]
  },
  {
   "cell_type": "code",
   "execution_count": 46,
   "metadata": {},
   "outputs": [],
   "source": [
    "edges = defaultdict(list)\n",
    "outline = set()\n",
    "\n",
    "dir_map = {\n",
    "    'R' : Pos(1, 0),\n",
    "    'L' : Pos(-1, 0),\n",
    "    'U' : Pos(0, -1),\n",
    "    'D' : Pos(0, 1)\n",
    "}\n",
    "\n",
    "boarders = {\n",
    "    'min_x' : 0,\n",
    "    'max_x' : 0,\n",
    "    'min_y' : 0,\n",
    "    'max_y' : 0\n",
    "}\n",
    "\n",
    "cur = Pos(0, 0)\n",
    "for line in data:\n",
    "    move, length = line[0], int(line[1])\n",
    "    new_edge = Edge(cur, cur + dir_map[move] * length)\n",
    "    if new_edge.start.x == new_edge.end.x:\n",
    "        edges[new_edge.start.x].append(new_edge)\n",
    "    cur = new_edge.end\n",
    "    \n",
    "    boarders = {\n",
    "        'min_x' : min(boarders['min_x'], cur.x),\n",
    "        'max_x' : max(boarders['max_x'], cur.x),\n",
    "        'min_y' : min(boarders['min_y'], cur.y),\n",
    "        'max_y' : max(boarders['max_y'], cur.y)\n",
    "    }\n",
    "    \n",
    "    for x in range(min(new_edge.start.x, new_edge.end.x), max(new_edge.start.x, new_edge.end.x) + 1):\n",
    "        for y in range(min(new_edge.start.y, new_edge.end.y), max(new_edge.start.y, new_edge.end.y) + 1):\n",
    "            outline.add(Pos(x, y))\n",
    "    \n",
    "# move into positive space\n",
    "edges = {k + abs(boarders['min_x']) : v for k, v in edges.items()}\n",
    "edges = {k : [Edge(e.start + Pos(abs(boarders['min_x']), abs(boarders['min_y'])), e.end + Pos(abs(boarders['min_x']), abs(boarders['min_y']))) for e in v] for k, v in edges.items()}\n",
    "outline = {Pos(p.x + abs(boarders['min_x']), p.y + abs(boarders['min_y'])) for p in outline}"
   ]
  },
  {
   "cell_type": "code",
   "execution_count": 47,
   "metadata": {},
   "outputs": [],
   "source": [
    "grid = np.zeros((boarders['max_x'] - boarders['min_x'] + 1, boarders['max_y'] - boarders['min_y'] + 1), dtype=np.int8)\n",
    "\n",
    "for y in range(0, - boarders['min_y'] + boarders['max_y'] + 1):\n",
    "    counter = 0\n",
    "    u_counter = 0\n",
    "    d_counter = 0\n",
    "    for x in range(0, - boarders['min_x'] + boarders['max_x'] + 1):\n",
    "        if x not in edges:\n",
    "            grid[x][y] = (counter + u_counter if u_counter == d_counter else counter) % 2\n",
    "            if Pos(x, y) in outline:\n",
    "                grid[x][y] = 1\n",
    "            # print(y, x, counter, u_counter, d_counter, now_count)\n",
    "            continue\n",
    "        for edge in edges[x]:\n",
    "            if edge.start.y <= y <= edge.end.y or edge.end.y <= y <= edge.start.y:\n",
    "                if y == edge.start.y and edge.end.y < edge.start.y or y == edge.end.y and edge.start.y < edge.end.y:\n",
    "                    d_counter = (d_counter + 1) % 2\n",
    "                elif y == edge.end.y and edge.end.y < edge.start.y or y == edge.start.y and edge.start.y < edge.end.y:\n",
    "                    u_counter  = (u_counter + 1) % 2\n",
    "                else:\n",
    "                    counter += 1\n",
    "        now_count = (counter + u_counter if u_counter == d_counter else counter) % 2\n",
    "        # print(y, x, counter, u_counter, d_counter, now_count)\n",
    "        grid[x][y] = now_count\n",
    "        if Pos(x, y) in outline:\n",
    "                grid[x][y] = 1\n",
    "        \n",
    "grid.T\n",
    "            \n",
    "# safe grid to file\n",
    "with open('grid.txt', 'w') as f:\n",
    "    for y in range(0, - boarders['min_y'] + boarders['max_y'] + 1):\n",
    "        for x in range(0, - boarders['min_x'] + boarders['max_x'] + 1):\n",
    "            f.write(str(grid[x][y]))\n",
    "        f.write('\\n')"
   ]
  },
  {
   "cell_type": "code",
   "execution_count": 48,
   "metadata": {},
   "outputs": [
    {
     "data": {
      "text/plain": [
       "40745"
      ]
     },
     "execution_count": 48,
     "metadata": {},
     "output_type": "execute_result"
    }
   ],
   "source": [
    "grid.sum()"
   ]
  }
 ],
 "metadata": {
  "kernelspec": {
   "display_name": "base",
   "language": "python",
   "name": "python3"
  },
  "language_info": {
   "codemirror_mode": {
    "name": "ipython",
    "version": 3
   },
   "file_extension": ".py",
   "mimetype": "text/x-python",
   "name": "python",
   "nbconvert_exporter": "python",
   "pygments_lexer": "ipython3",
   "version": "3.11.5"
  }
 },
 "nbformat": 4,
 "nbformat_minor": 2
}
